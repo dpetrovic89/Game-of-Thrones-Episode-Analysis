{
  "nbformat": 4,
  "nbformat_minor": 0,
  "metadata": {
    "colab": {
      "name": "Game of Thrones Episode Analysis.ipynb",
      "provenance": [],
      "authorship_tag": "ABX9TyNn55MMUlsL5zn3Mt3DU0To",
      "include_colab_link": true
    },
    "kernelspec": {
      "name": "python3",
      "display_name": "Python 3"
    }
  },
  "cells": [
    {
      "cell_type": "markdown",
      "metadata": {
        "id": "view-in-github",
        "colab_type": "text"
      },
      "source": [
        "<a href=\"https://colab.research.google.com/github/dpetrovic89/Game-of-Thrones-Episode-Analysis/blob/main/Game_of_Thrones_Episode_Analysis.ipynb\" target=\"_parent\"><img src=\"https://colab.research.google.com/assets/colab-badge.svg\" alt=\"Open In Colab\"/></a>"
      ]
    },
    {
      "cell_type": "markdown",
      "metadata": {
        "id": "Vc1NPYYGWXAj"
      },
      "source": [
        "# **Game of Thrones** is one of the world's most popular TV shows. \r\n",
        " \r\n",
        "Which season is the most popular? \r\n",
        "\r\n",
        "Is there are link between ratings and viewer figures? \r\n",
        "\r\n",
        "Do certain writers and directors make better episodes? \r\n",
        "\r\n",
        "Can you extract any relevant information from the episode descriptions?\r\n",
        "\r\n"
      ]
    },
    {
      "cell_type": "markdown",
      "metadata": {
        "id": "y11FuPC0X_6P"
      },
      "source": [
        "# Explore Data: Beginning Data Analysis"
      ]
    },
    {
      "cell_type": "code",
      "metadata": {
        "id": "qTd-IoZ1YVWC"
      },
      "source": [
        "import pandas as pd\r\n",
        "import numpy as np"
      ],
      "execution_count": 1,
      "outputs": []
    },
    {
      "cell_type": "code",
      "metadata": {
        "id": "0-CJXPQqWOX-"
      },
      "source": [
        "data = pd.read_csv('https://raw.githubusercontent.com/dpetrovic89/Game-of-Thrones-Episode-Analysis/main/got_data.csv')\r\n"
      ],
      "execution_count": 2,
      "outputs": []
    },
    {
      "cell_type": "code",
      "metadata": {
        "colab": {
          "base_uri": "https://localhost:8080/",
          "height": 357
        },
        "id": "ysvxESr_YbxT",
        "outputId": "b335644a-dff8-43a4-e9de-4bcd965d38ae"
      },
      "source": [
        "# show first 5 rows\r\n",
        "data.head()"
      ],
      "execution_count": 3,
      "outputs": [
        {
          "output_type": "execute_result",
          "data": {
            "text/html": [
              "<div>\n",
              "<style scoped>\n",
              "    .dataframe tbody tr th:only-of-type {\n",
              "        vertical-align: middle;\n",
              "    }\n",
              "\n",
              "    .dataframe tbody tr th {\n",
              "        vertical-align: top;\n",
              "    }\n",
              "\n",
              "    .dataframe thead th {\n",
              "        text-align: right;\n",
              "    }\n",
              "</style>\n",
              "<table border=\"1\" class=\"dataframe\">\n",
              "  <thead>\n",
              "    <tr style=\"text-align: right;\">\n",
              "      <th></th>\n",
              "      <th>Season</th>\n",
              "      <th>Episode Number</th>\n",
              "      <th>Number in Season</th>\n",
              "      <th>Episode Name</th>\n",
              "      <th>Director</th>\n",
              "      <th>Writer</th>\n",
              "      <th>Original Air Date</th>\n",
              "      <th>US viewers (million)</th>\n",
              "      <th>Runtime (mins)</th>\n",
              "      <th>IMDB Description</th>\n",
              "      <th>IMDB votes</th>\n",
              "      <th>Imdb Rating</th>\n",
              "      <th>Notable Death Count</th>\n",
              "    </tr>\n",
              "  </thead>\n",
              "  <tbody>\n",
              "    <tr>\n",
              "      <th>0</th>\n",
              "      <td>1</td>\n",
              "      <td>1</td>\n",
              "      <td>1</td>\n",
              "      <td>Winter Is Coming</td>\n",
              "      <td>Tim Van Patten</td>\n",
              "      <td>David Benioff &amp; D. B. Weiss</td>\n",
              "      <td>April 17, 2011</td>\n",
              "      <td>2.22</td>\n",
              "      <td>62</td>\n",
              "      <td>Jon Arryn, the Hand of the King, is dead. King...</td>\n",
              "      <td>27685</td>\n",
              "      <td>9.0</td>\n",
              "      <td>4</td>\n",
              "    </tr>\n",
              "    <tr>\n",
              "      <th>1</th>\n",
              "      <td>1</td>\n",
              "      <td>2</td>\n",
              "      <td>2</td>\n",
              "      <td>The Kingsroad</td>\n",
              "      <td>Tim Van Patten</td>\n",
              "      <td>David Benioff &amp; D. B. Weiss</td>\n",
              "      <td>April 24, 2011</td>\n",
              "      <td>2.20</td>\n",
              "      <td>56</td>\n",
              "      <td>While Bran recovers from his fall, Ned takes o...</td>\n",
              "      <td>21256</td>\n",
              "      <td>8.8</td>\n",
              "      <td>3</td>\n",
              "    </tr>\n",
              "    <tr>\n",
              "      <th>2</th>\n",
              "      <td>1</td>\n",
              "      <td>3</td>\n",
              "      <td>3</td>\n",
              "      <td>Lord Snow</td>\n",
              "      <td>Brian Kirk</td>\n",
              "      <td>David Benioff &amp; D. B. Weiss</td>\n",
              "      <td>May 1, 2011</td>\n",
              "      <td>2.44</td>\n",
              "      <td>58</td>\n",
              "      <td>Lord Stark and his daughters arrive at King's ...</td>\n",
              "      <td>20090</td>\n",
              "      <td>8.7</td>\n",
              "      <td>0</td>\n",
              "    </tr>\n",
              "    <tr>\n",
              "      <th>3</th>\n",
              "      <td>1</td>\n",
              "      <td>4</td>\n",
              "      <td>4</td>\n",
              "      <td>Cripples, Bastards, and Broken Things</td>\n",
              "      <td>Brian Kirk</td>\n",
              "      <td>Bryan Cogman</td>\n",
              "      <td>May 8, 2011</td>\n",
              "      <td>2.45</td>\n",
              "      <td>56</td>\n",
              "      <td>Eddard investigates Jon Arryn's murder. Jon be...</td>\n",
              "      <td>19123</td>\n",
              "      <td>8.8</td>\n",
              "      <td>1</td>\n",
              "    </tr>\n",
              "    <tr>\n",
              "      <th>4</th>\n",
              "      <td>1</td>\n",
              "      <td>5</td>\n",
              "      <td>5</td>\n",
              "      <td>The Wolf and the Lion</td>\n",
              "      <td>Brian Kirk</td>\n",
              "      <td>David Benioff &amp; D. B. Weiss</td>\n",
              "      <td>May 15, 2011</td>\n",
              "      <td>2.58</td>\n",
              "      <td>55</td>\n",
              "      <td>Catelyn has captured Tyrion and plans to bring...</td>\n",
              "      <td>20062</td>\n",
              "      <td>9.1</td>\n",
              "      <td>5</td>\n",
              "    </tr>\n",
              "  </tbody>\n",
              "</table>\n",
              "</div>"
            ],
            "text/plain": [
              "   Season  Episode Number  ...  Imdb Rating Notable Death Count\n",
              "0       1               1  ...          9.0                   4\n",
              "1       1               2  ...          8.8                   3\n",
              "2       1               3  ...          8.7                   0\n",
              "3       1               4  ...          8.8                   1\n",
              "4       1               5  ...          9.1                   5\n",
              "\n",
              "[5 rows x 13 columns]"
            ]
          },
          "metadata": {
            "tags": []
          },
          "execution_count": 3
        }
      ]
    },
    {
      "cell_type": "code",
      "metadata": {
        "colab": {
          "base_uri": "https://localhost:8080/"
        },
        "id": "q3XBC0XkZ7aT",
        "outputId": "068ea8a2-15d3-4490-e22e-7569055887d3"
      },
      "source": [
        "# 73 rows and 13 columns\r\n",
        "data.shape"
      ],
      "execution_count": 4,
      "outputs": [
        {
          "output_type": "execute_result",
          "data": {
            "text/plain": [
              "(73, 13)"
            ]
          },
          "metadata": {
            "tags": []
          },
          "execution_count": 4
        }
      ]
    },
    {
      "cell_type": "code",
      "metadata": {
        "colab": {
          "base_uri": "https://localhost:8080/"
        },
        "id": "JF29Jc1fdW4f",
        "outputId": "589c9b01-faec-4290-b82f-363b067e3857"
      },
      "source": [
        "# names of columns\r\n",
        "data.columns"
      ],
      "execution_count": 5,
      "outputs": [
        {
          "output_type": "execute_result",
          "data": {
            "text/plain": [
              "Index(['Season', 'Episode Number', 'Number in Season', 'Episode Name',\n",
              "       'Director', 'Writer', 'Original Air Date', 'US viewers (million)',\n",
              "       'Runtime (mins)', 'IMDB Description', 'IMDB votes', 'Imdb Rating',\n",
              "       'Notable Death Count'],\n",
              "      dtype='object')"
            ]
          },
          "metadata": {
            "tags": []
          },
          "execution_count": 5
        }
      ]
    },
    {
      "cell_type": "code",
      "metadata": {
        "colab": {
          "base_uri": "https://localhost:8080/",
          "height": 297
        },
        "id": "OUUTVddLaePp",
        "outputId": "3107d972-8380-4b28-ba4e-d53bcc13f280"
      },
      "source": [
        "# all numerical columns\r\n",
        "with pd.option_context('display.max_rows', 8):\r\n",
        "    display(data.describe(include=[np.number]).T)\r\n",
        "\r\n",
        "# There is 8 seasonso of GoT and 73 episodes\r\n",
        "# Average number of  US viewers are 6.44 millions, minimum was 2.2 and maximum was 13.61.\r\n",
        "# Average runtime per episode is 57.72 minutes, minimum was 50 and max was 82.\r\n",
        "# Imdb average votes per episode is 40185, min is 16496 and max was 216879\r\n",
        "# Average Imdb rating is 8.89, min 4.1 and max is 9.9\r\n",
        "# Deaths per episode was 3.17 on average, with max number 11.\r\n"
      ],
      "execution_count": 6,
      "outputs": [
        {
          "output_type": "display_data",
          "data": {
            "text/html": [
              "<div>\n",
              "<style scoped>\n",
              "    .dataframe tbody tr th:only-of-type {\n",
              "        vertical-align: middle;\n",
              "    }\n",
              "\n",
              "    .dataframe tbody tr th {\n",
              "        vertical-align: top;\n",
              "    }\n",
              "\n",
              "    .dataframe thead th {\n",
              "        text-align: right;\n",
              "    }\n",
              "</style>\n",
              "<table border=\"1\" class=\"dataframe\">\n",
              "  <thead>\n",
              "    <tr style=\"text-align: right;\">\n",
              "      <th></th>\n",
              "      <th>count</th>\n",
              "      <th>mean</th>\n",
              "      <th>std</th>\n",
              "      <th>min</th>\n",
              "      <th>25%</th>\n",
              "      <th>50%</th>\n",
              "      <th>75%</th>\n",
              "      <th>max</th>\n",
              "    </tr>\n",
              "  </thead>\n",
              "  <tbody>\n",
              "    <tr>\n",
              "      <th>Season</th>\n",
              "      <td>73.0</td>\n",
              "      <td>4.205479</td>\n",
              "      <td>2.191897</td>\n",
              "      <td>1.0</td>\n",
              "      <td>2.0</td>\n",
              "      <td>4.00</td>\n",
              "      <td>6.00</td>\n",
              "      <td>8.00</td>\n",
              "    </tr>\n",
              "    <tr>\n",
              "      <th>Episode Number</th>\n",
              "      <td>73.0</td>\n",
              "      <td>37.000000</td>\n",
              "      <td>21.217131</td>\n",
              "      <td>1.0</td>\n",
              "      <td>19.0</td>\n",
              "      <td>37.00</td>\n",
              "      <td>55.00</td>\n",
              "      <td>73.00</td>\n",
              "    </tr>\n",
              "    <tr>\n",
              "      <th>Number in Season</th>\n",
              "      <td>73.0</td>\n",
              "      <td>5.191781</td>\n",
              "      <td>2.821827</td>\n",
              "      <td>1.0</td>\n",
              "      <td>3.0</td>\n",
              "      <td>5.00</td>\n",
              "      <td>7.00</td>\n",
              "      <td>10.00</td>\n",
              "    </tr>\n",
              "    <tr>\n",
              "      <th>US viewers (million)</th>\n",
              "      <td>73.0</td>\n",
              "      <td>6.446712</td>\n",
              "      <td>2.825016</td>\n",
              "      <td>2.2</td>\n",
              "      <td>3.9</td>\n",
              "      <td>6.64</td>\n",
              "      <td>7.82</td>\n",
              "      <td>13.61</td>\n",
              "    </tr>\n",
              "    <tr>\n",
              "      <th>Runtime (mins)</th>\n",
              "      <td>73.0</td>\n",
              "      <td>57.726027</td>\n",
              "      <td>7.251935</td>\n",
              "      <td>50.0</td>\n",
              "      <td>53.0</td>\n",
              "      <td>56.00</td>\n",
              "      <td>59.00</td>\n",
              "      <td>82.00</td>\n",
              "    </tr>\n",
              "    <tr>\n",
              "      <th>IMDB votes</th>\n",
              "      <td>73.0</td>\n",
              "      <td>40185.000000</td>\n",
              "      <td>44304.997159</td>\n",
              "      <td>16496.0</td>\n",
              "      <td>18075.0</td>\n",
              "      <td>23207.00</td>\n",
              "      <td>32906.00</td>\n",
              "      <td>216879.00</td>\n",
              "    </tr>\n",
              "    <tr>\n",
              "      <th>Imdb Rating</th>\n",
              "      <td>73.0</td>\n",
              "      <td>8.891781</td>\n",
              "      <td>0.931360</td>\n",
              "      <td>4.1</td>\n",
              "      <td>8.7</td>\n",
              "      <td>9.00</td>\n",
              "      <td>9.40</td>\n",
              "      <td>9.90</td>\n",
              "    </tr>\n",
              "    <tr>\n",
              "      <th>Notable Death Count</th>\n",
              "      <td>73.0</td>\n",
              "      <td>3.178082</td>\n",
              "      <td>2.394104</td>\n",
              "      <td>0.0</td>\n",
              "      <td>1.0</td>\n",
              "      <td>3.00</td>\n",
              "      <td>4.00</td>\n",
              "      <td>11.00</td>\n",
              "    </tr>\n",
              "  </tbody>\n",
              "</table>\n",
              "</div>"
            ],
            "text/plain": [
              "                      count          mean  ...       75%        max\n",
              "Season                 73.0      4.205479  ...      6.00       8.00\n",
              "Episode Number         73.0     37.000000  ...     55.00      73.00\n",
              "Number in Season       73.0      5.191781  ...      7.00      10.00\n",
              "US viewers (million)   73.0      6.446712  ...      7.82      13.61\n",
              "Runtime (mins)         73.0     57.726027  ...     59.00      82.00\n",
              "IMDB votes             73.0  40185.000000  ...  32906.00  216879.00\n",
              "Imdb Rating            73.0      8.891781  ...      9.40       9.90\n",
              "Notable Death Count    73.0      3.178082  ...      4.00      11.00\n",
              "\n",
              "[8 rows x 8 columns]"
            ]
          },
          "metadata": {
            "tags": []
          }
        }
      ]
    },
    {
      "cell_type": "code",
      "metadata": {
        "colab": {
          "base_uri": "https://localhost:8080/",
          "height": 204
        },
        "id": "Bs3DkfVZa0Xe",
        "outputId": "0d53ee2c-c2f4-4712-863e-2562f0b22dd5"
      },
      "source": [
        "# all categorical columns\r\n",
        "data.describe(include=[np.object, pd.Categorical]).T\r\n",
        "\r\n",
        "# There is 8 Different Writers and 20 Directors\r\n",
        "# David Benioff & D. B. Weiss have written most episodes 42 out of 73.\r\n",
        "# David Nutter Directed most number of epiodes 9.\r\n",
        "# First Episode is aired on May 15, 2011"
      ],
      "execution_count": 7,
      "outputs": [
        {
          "output_type": "execute_result",
          "data": {
            "text/html": [
              "<div>\n",
              "<style scoped>\n",
              "    .dataframe tbody tr th:only-of-type {\n",
              "        vertical-align: middle;\n",
              "    }\n",
              "\n",
              "    .dataframe tbody tr th {\n",
              "        vertical-align: top;\n",
              "    }\n",
              "\n",
              "    .dataframe thead th {\n",
              "        text-align: right;\n",
              "    }\n",
              "</style>\n",
              "<table border=\"1\" class=\"dataframe\">\n",
              "  <thead>\n",
              "    <tr style=\"text-align: right;\">\n",
              "      <th></th>\n",
              "      <th>count</th>\n",
              "      <th>unique</th>\n",
              "      <th>top</th>\n",
              "      <th>freq</th>\n",
              "    </tr>\n",
              "  </thead>\n",
              "  <tbody>\n",
              "    <tr>\n",
              "      <th>Episode Name</th>\n",
              "      <td>73</td>\n",
              "      <td>73</td>\n",
              "      <td>The Lion and the Rose</td>\n",
              "      <td>1</td>\n",
              "    </tr>\n",
              "    <tr>\n",
              "      <th>Director</th>\n",
              "      <td>73</td>\n",
              "      <td>20</td>\n",
              "      <td>David Nutter</td>\n",
              "      <td>9</td>\n",
              "    </tr>\n",
              "    <tr>\n",
              "      <th>Writer</th>\n",
              "      <td>73</td>\n",
              "      <td>8</td>\n",
              "      <td>David Benioff &amp; D. B. Weiss</td>\n",
              "      <td>42</td>\n",
              "    </tr>\n",
              "    <tr>\n",
              "      <th>Original Air Date</th>\n",
              "      <td>73</td>\n",
              "      <td>73</td>\n",
              "      <td>May 15, 2011</td>\n",
              "      <td>1</td>\n",
              "    </tr>\n",
              "    <tr>\n",
              "      <th>IMDB Description</th>\n",
              "      <td>73</td>\n",
              "      <td>73</td>\n",
              "      <td>Tyrion arrives at King's Landing to take his f...</td>\n",
              "      <td>1</td>\n",
              "    </tr>\n",
              "  </tbody>\n",
              "</table>\n",
              "</div>"
            ],
            "text/plain": [
              "                  count  ... freq\n",
              "Episode Name         73  ...    1\n",
              "Director             73  ...    9\n",
              "Writer               73  ...   42\n",
              "Original Air Date    73  ...    1\n",
              "IMDB Description     73  ...    1\n",
              "\n",
              "[5 rows x 4 columns]"
            ]
          },
          "metadata": {
            "tags": []
          },
          "execution_count": 7
        }
      ]
    },
    {
      "cell_type": "code",
      "metadata": {
        "colab": {
          "base_uri": "https://localhost:8080/"
        },
        "id": "5PqqEtqObSjz",
        "outputId": "740eff62-06f8-4967-f3f4-8f50259fea0f"
      },
      "source": [
        "# 0 missing values.\r\n",
        "data.info()"
      ],
      "execution_count": 8,
      "outputs": [
        {
          "output_type": "stream",
          "text": [
            "<class 'pandas.core.frame.DataFrame'>\n",
            "RangeIndex: 73 entries, 0 to 72\n",
            "Data columns (total 13 columns):\n",
            " #   Column                Non-Null Count  Dtype  \n",
            "---  ------                --------------  -----  \n",
            " 0   Season                73 non-null     int64  \n",
            " 1   Episode Number        73 non-null     int64  \n",
            " 2   Number in Season      73 non-null     int64  \n",
            " 3   Episode Name          73 non-null     object \n",
            " 4   Director              73 non-null     object \n",
            " 5   Writer                73 non-null     object \n",
            " 6   Original Air Date     73 non-null     object \n",
            " 7   US viewers (million)  73 non-null     float64\n",
            " 8   Runtime (mins)        73 non-null     int64  \n",
            " 9   IMDB Description      73 non-null     object \n",
            " 10  IMDB votes            73 non-null     int64  \n",
            " 11  Imdb Rating           73 non-null     float64\n",
            " 12  Notable Death Count   73 non-null     int64  \n",
            "dtypes: float64(2), int64(6), object(5)\n",
            "memory usage: 7.5+ KB\n"
          ],
          "name": "stdout"
        }
      ]
    },
    {
      "cell_type": "code",
      "metadata": {
        "colab": {
          "base_uri": "https://localhost:8080/"
        },
        "id": "Vl-qPQCAcouZ",
        "outputId": "2380ba13-f715-4245-eb0e-36aac48333cf"
      },
      "source": [
        "# 0 missing values\r\n",
        "data.isnull().sum().sum()\r\n"
      ],
      "execution_count": 9,
      "outputs": [
        {
          "output_type": "execute_result",
          "data": {
            "text/plain": [
              "0"
            ]
          },
          "metadata": {
            "tags": []
          },
          "execution_count": 9
        }
      ]
    },
    {
      "cell_type": "code",
      "metadata": {
        "colab": {
          "base_uri": "https://localhost:8080/",
          "height": 297
        },
        "id": "v47z_Uqubm4S",
        "outputId": "3d95398c-1db3-43eb-d1c5-2703565677d7"
      },
      "source": [
        "data.describe(include=[np.number]).T\r\n"
      ],
      "execution_count": 10,
      "outputs": [
        {
          "output_type": "execute_result",
          "data": {
            "text/html": [
              "<div>\n",
              "<style scoped>\n",
              "    .dataframe tbody tr th:only-of-type {\n",
              "        vertical-align: middle;\n",
              "    }\n",
              "\n",
              "    .dataframe tbody tr th {\n",
              "        vertical-align: top;\n",
              "    }\n",
              "\n",
              "    .dataframe thead th {\n",
              "        text-align: right;\n",
              "    }\n",
              "</style>\n",
              "<table border=\"1\" class=\"dataframe\">\n",
              "  <thead>\n",
              "    <tr style=\"text-align: right;\">\n",
              "      <th></th>\n",
              "      <th>count</th>\n",
              "      <th>mean</th>\n",
              "      <th>std</th>\n",
              "      <th>min</th>\n",
              "      <th>25%</th>\n",
              "      <th>50%</th>\n",
              "      <th>75%</th>\n",
              "      <th>max</th>\n",
              "    </tr>\n",
              "  </thead>\n",
              "  <tbody>\n",
              "    <tr>\n",
              "      <th>Season</th>\n",
              "      <td>73.0</td>\n",
              "      <td>4.205479</td>\n",
              "      <td>2.191897</td>\n",
              "      <td>1.0</td>\n",
              "      <td>2.0</td>\n",
              "      <td>4.00</td>\n",
              "      <td>6.00</td>\n",
              "      <td>8.00</td>\n",
              "    </tr>\n",
              "    <tr>\n",
              "      <th>Episode Number</th>\n",
              "      <td>73.0</td>\n",
              "      <td>37.000000</td>\n",
              "      <td>21.217131</td>\n",
              "      <td>1.0</td>\n",
              "      <td>19.0</td>\n",
              "      <td>37.00</td>\n",
              "      <td>55.00</td>\n",
              "      <td>73.00</td>\n",
              "    </tr>\n",
              "    <tr>\n",
              "      <th>Number in Season</th>\n",
              "      <td>73.0</td>\n",
              "      <td>5.191781</td>\n",
              "      <td>2.821827</td>\n",
              "      <td>1.0</td>\n",
              "      <td>3.0</td>\n",
              "      <td>5.00</td>\n",
              "      <td>7.00</td>\n",
              "      <td>10.00</td>\n",
              "    </tr>\n",
              "    <tr>\n",
              "      <th>US viewers (million)</th>\n",
              "      <td>73.0</td>\n",
              "      <td>6.446712</td>\n",
              "      <td>2.825016</td>\n",
              "      <td>2.2</td>\n",
              "      <td>3.9</td>\n",
              "      <td>6.64</td>\n",
              "      <td>7.82</td>\n",
              "      <td>13.61</td>\n",
              "    </tr>\n",
              "    <tr>\n",
              "      <th>Runtime (mins)</th>\n",
              "      <td>73.0</td>\n",
              "      <td>57.726027</td>\n",
              "      <td>7.251935</td>\n",
              "      <td>50.0</td>\n",
              "      <td>53.0</td>\n",
              "      <td>56.00</td>\n",
              "      <td>59.00</td>\n",
              "      <td>82.00</td>\n",
              "    </tr>\n",
              "    <tr>\n",
              "      <th>IMDB votes</th>\n",
              "      <td>73.0</td>\n",
              "      <td>40185.000000</td>\n",
              "      <td>44304.997159</td>\n",
              "      <td>16496.0</td>\n",
              "      <td>18075.0</td>\n",
              "      <td>23207.00</td>\n",
              "      <td>32906.00</td>\n",
              "      <td>216879.00</td>\n",
              "    </tr>\n",
              "    <tr>\n",
              "      <th>Imdb Rating</th>\n",
              "      <td>73.0</td>\n",
              "      <td>8.891781</td>\n",
              "      <td>0.931360</td>\n",
              "      <td>4.1</td>\n",
              "      <td>8.7</td>\n",
              "      <td>9.00</td>\n",
              "      <td>9.40</td>\n",
              "      <td>9.90</td>\n",
              "    </tr>\n",
              "    <tr>\n",
              "      <th>Notable Death Count</th>\n",
              "      <td>73.0</td>\n",
              "      <td>3.178082</td>\n",
              "      <td>2.394104</td>\n",
              "      <td>0.0</td>\n",
              "      <td>1.0</td>\n",
              "      <td>3.00</td>\n",
              "      <td>4.00</td>\n",
              "      <td>11.00</td>\n",
              "    </tr>\n",
              "  </tbody>\n",
              "</table>\n",
              "</div>"
            ],
            "text/plain": [
              "                      count          mean  ...       75%        max\n",
              "Season                 73.0      4.205479  ...      6.00       8.00\n",
              "Episode Number         73.0     37.000000  ...     55.00      73.00\n",
              "Number in Season       73.0      5.191781  ...      7.00      10.00\n",
              "US viewers (million)   73.0      6.446712  ...      7.82      13.61\n",
              "Runtime (mins)         73.0     57.726027  ...     59.00      82.00\n",
              "IMDB votes             73.0  40185.000000  ...  32906.00  216879.00\n",
              "Imdb Rating            73.0      8.891781  ...      9.40       9.90\n",
              "Notable Death Count    73.0      3.178082  ...      4.00      11.00\n",
              "\n",
              "[8 rows x 8 columns]"
            ]
          },
          "metadata": {
            "tags": []
          },
          "execution_count": 10
        }
      ]
    },
    {
      "cell_type": "code",
      "metadata": {
        "colab": {
          "base_uri": "https://localhost:8080/",
          "height": 365
        },
        "id": "V2kPHAtKcIZ0",
        "outputId": "0a7226b3-c4f5-4533-cd11-2613395245e0"
      },
      "source": [
        "with pd.option_context('display.max_rows', 8):\r\n",
        "    display(data.describe(include=[np.number], \r\n",
        "                 percentiles=[.01, .05, .10, .25, .5, .75, .9, .95, .99]).T)\r\n"
      ],
      "execution_count": 11,
      "outputs": [
        {
          "output_type": "display_data",
          "data": {
            "text/html": [
              "<div>\n",
              "<style scoped>\n",
              "    .dataframe tbody tr th:only-of-type {\n",
              "        vertical-align: middle;\n",
              "    }\n",
              "\n",
              "    .dataframe tbody tr th {\n",
              "        vertical-align: top;\n",
              "    }\n",
              "\n",
              "    .dataframe thead th {\n",
              "        text-align: right;\n",
              "    }\n",
              "</style>\n",
              "<table border=\"1\" class=\"dataframe\">\n",
              "  <thead>\n",
              "    <tr style=\"text-align: right;\">\n",
              "      <th></th>\n",
              "      <th>count</th>\n",
              "      <th>mean</th>\n",
              "      <th>std</th>\n",
              "      <th>min</th>\n",
              "      <th>1%</th>\n",
              "      <th>5%</th>\n",
              "      <th>10%</th>\n",
              "      <th>25%</th>\n",
              "      <th>50%</th>\n",
              "      <th>75%</th>\n",
              "      <th>90%</th>\n",
              "      <th>95%</th>\n",
              "      <th>99%</th>\n",
              "      <th>max</th>\n",
              "    </tr>\n",
              "  </thead>\n",
              "  <tbody>\n",
              "    <tr>\n",
              "      <th>Season</th>\n",
              "      <td>73.0</td>\n",
              "      <td>4.205479</td>\n",
              "      <td>2.191897</td>\n",
              "      <td>1.0</td>\n",
              "      <td>1.0000</td>\n",
              "      <td>1.00</td>\n",
              "      <td>1.000</td>\n",
              "      <td>2.0</td>\n",
              "      <td>4.00</td>\n",
              "      <td>6.00</td>\n",
              "      <td>7.00</td>\n",
              "      <td>8.000</td>\n",
              "      <td>8.0000</td>\n",
              "      <td>8.00</td>\n",
              "    </tr>\n",
              "    <tr>\n",
              "      <th>Episode Number</th>\n",
              "      <td>73.0</td>\n",
              "      <td>37.000000</td>\n",
              "      <td>21.217131</td>\n",
              "      <td>1.0</td>\n",
              "      <td>1.7200</td>\n",
              "      <td>4.60</td>\n",
              "      <td>8.200</td>\n",
              "      <td>19.0</td>\n",
              "      <td>37.00</td>\n",
              "      <td>55.00</td>\n",
              "      <td>65.80</td>\n",
              "      <td>69.400</td>\n",
              "      <td>72.2800</td>\n",
              "      <td>73.00</td>\n",
              "    </tr>\n",
              "    <tr>\n",
              "      <th>Number in Season</th>\n",
              "      <td>73.0</td>\n",
              "      <td>5.191781</td>\n",
              "      <td>2.821827</td>\n",
              "      <td>1.0</td>\n",
              "      <td>1.0000</td>\n",
              "      <td>1.00</td>\n",
              "      <td>1.200</td>\n",
              "      <td>3.0</td>\n",
              "      <td>5.00</td>\n",
              "      <td>7.00</td>\n",
              "      <td>9.00</td>\n",
              "      <td>10.000</td>\n",
              "      <td>10.0000</td>\n",
              "      <td>10.00</td>\n",
              "    </tr>\n",
              "    <tr>\n",
              "      <th>US viewers (million)</th>\n",
              "      <td>73.0</td>\n",
              "      <td>6.446712</td>\n",
              "      <td>2.825016</td>\n",
              "      <td>2.2</td>\n",
              "      <td>2.2144</td>\n",
              "      <td>2.44</td>\n",
              "      <td>2.672</td>\n",
              "      <td>3.9</td>\n",
              "      <td>6.64</td>\n",
              "      <td>7.82</td>\n",
              "      <td>10.28</td>\n",
              "      <td>11.888</td>\n",
              "      <td>12.7388</td>\n",
              "      <td>13.61</td>\n",
              "    </tr>\n",
              "    <tr>\n",
              "      <th>Runtime (mins)</th>\n",
              "      <td>73.0</td>\n",
              "      <td>57.726027</td>\n",
              "      <td>7.251935</td>\n",
              "      <td>50.0</td>\n",
              "      <td>50.0000</td>\n",
              "      <td>51.00</td>\n",
              "      <td>51.000</td>\n",
              "      <td>53.0</td>\n",
              "      <td>56.00</td>\n",
              "      <td>59.00</td>\n",
              "      <td>64.80</td>\n",
              "      <td>78.000</td>\n",
              "      <td>80.5600</td>\n",
              "      <td>82.00</td>\n",
              "    </tr>\n",
              "    <tr>\n",
              "      <th>IMDB votes</th>\n",
              "      <td>73.0</td>\n",
              "      <td>40185.000000</td>\n",
              "      <td>44304.997159</td>\n",
              "      <td>16496.0</td>\n",
              "      <td>16589.6000</td>\n",
              "      <td>16851.40</td>\n",
              "      <td>17130.200</td>\n",
              "      <td>18075.0</td>\n",
              "      <td>23207.00</td>\n",
              "      <td>32906.00</td>\n",
              "      <td>101808.80</td>\n",
              "      <td>154370.200</td>\n",
              "      <td>203633.1600</td>\n",
              "      <td>216879.00</td>\n",
              "    </tr>\n",
              "    <tr>\n",
              "      <th>Imdb Rating</th>\n",
              "      <td>73.0</td>\n",
              "      <td>8.891781</td>\n",
              "      <td>0.931360</td>\n",
              "      <td>4.1</td>\n",
              "      <td>5.1080</td>\n",
              "      <td>7.56</td>\n",
              "      <td>8.420</td>\n",
              "      <td>8.7</td>\n",
              "      <td>9.00</td>\n",
              "      <td>9.40</td>\n",
              "      <td>9.70</td>\n",
              "      <td>9.840</td>\n",
              "      <td>9.9000</td>\n",
              "      <td>9.90</td>\n",
              "    </tr>\n",
              "    <tr>\n",
              "      <th>Notable Death Count</th>\n",
              "      <td>73.0</td>\n",
              "      <td>3.178082</td>\n",
              "      <td>2.394104</td>\n",
              "      <td>0.0</td>\n",
              "      <td>0.0000</td>\n",
              "      <td>0.00</td>\n",
              "      <td>1.000</td>\n",
              "      <td>1.0</td>\n",
              "      <td>3.00</td>\n",
              "      <td>4.00</td>\n",
              "      <td>6.80</td>\n",
              "      <td>7.400</td>\n",
              "      <td>10.2800</td>\n",
              "      <td>11.00</td>\n",
              "    </tr>\n",
              "  </tbody>\n",
              "</table>\n",
              "</div>"
            ],
            "text/plain": [
              "                      count          mean  ...          99%        max\n",
              "Season                 73.0      4.205479  ...       8.0000       8.00\n",
              "Episode Number         73.0     37.000000  ...      72.2800      73.00\n",
              "Number in Season       73.0      5.191781  ...      10.0000      10.00\n",
              "US viewers (million)   73.0      6.446712  ...      12.7388      13.61\n",
              "Runtime (mins)         73.0     57.726027  ...      80.5600      82.00\n",
              "IMDB votes             73.0  40185.000000  ...  203633.1600  216879.00\n",
              "Imdb Rating            73.0      8.891781  ...       9.9000       9.90\n",
              "Notable Death Count    73.0      3.178082  ...      10.2800      11.00\n",
              "\n",
              "[8 rows x 14 columns]"
            ]
          },
          "metadata": {
            "tags": []
          }
        }
      ]
    },
    {
      "cell_type": "markdown",
      "metadata": {
        "id": "HVDnFLylZiU0"
      },
      "source": [
        "Find data type of each column - continuous, categorical (ordinal or nominal), or date\r\n"
      ]
    },
    {
      "cell_type": "code",
      "metadata": {
        "colab": {
          "base_uri": "https://localhost:8080/",
          "height": 419
        },
        "id": "BS-tVLyycyfF",
        "outputId": "888afaf3-db98-449b-8209-a10190e4faee"
      },
      "source": [
        "# select all numeric columns\r\n",
        "numerics = ['int16', 'int32', 'int64', 'float16', 'float32', 'float64']\r\n",
        "\r\n",
        "datanum = data.select_dtypes(include=numerics)\r\n",
        "datanum"
      ],
      "execution_count": 12,
      "outputs": [
        {
          "output_type": "execute_result",
          "data": {
            "text/html": [
              "<div>\n",
              "<style scoped>\n",
              "    .dataframe tbody tr th:only-of-type {\n",
              "        vertical-align: middle;\n",
              "    }\n",
              "\n",
              "    .dataframe tbody tr th {\n",
              "        vertical-align: top;\n",
              "    }\n",
              "\n",
              "    .dataframe thead th {\n",
              "        text-align: right;\n",
              "    }\n",
              "</style>\n",
              "<table border=\"1\" class=\"dataframe\">\n",
              "  <thead>\n",
              "    <tr style=\"text-align: right;\">\n",
              "      <th></th>\n",
              "      <th>Season</th>\n",
              "      <th>Episode Number</th>\n",
              "      <th>Number in Season</th>\n",
              "      <th>US viewers (million)</th>\n",
              "      <th>Runtime (mins)</th>\n",
              "      <th>IMDB votes</th>\n",
              "      <th>Imdb Rating</th>\n",
              "      <th>Notable Death Count</th>\n",
              "    </tr>\n",
              "  </thead>\n",
              "  <tbody>\n",
              "    <tr>\n",
              "      <th>0</th>\n",
              "      <td>1</td>\n",
              "      <td>1</td>\n",
              "      <td>1</td>\n",
              "      <td>2.22</td>\n",
              "      <td>62</td>\n",
              "      <td>27685</td>\n",
              "      <td>9.0</td>\n",
              "      <td>4</td>\n",
              "    </tr>\n",
              "    <tr>\n",
              "      <th>1</th>\n",
              "      <td>1</td>\n",
              "      <td>2</td>\n",
              "      <td>2</td>\n",
              "      <td>2.20</td>\n",
              "      <td>56</td>\n",
              "      <td>21256</td>\n",
              "      <td>8.8</td>\n",
              "      <td>3</td>\n",
              "    </tr>\n",
              "    <tr>\n",
              "      <th>2</th>\n",
              "      <td>1</td>\n",
              "      <td>3</td>\n",
              "      <td>3</td>\n",
              "      <td>2.44</td>\n",
              "      <td>58</td>\n",
              "      <td>20090</td>\n",
              "      <td>8.7</td>\n",
              "      <td>0</td>\n",
              "    </tr>\n",
              "    <tr>\n",
              "      <th>3</th>\n",
              "      <td>1</td>\n",
              "      <td>4</td>\n",
              "      <td>4</td>\n",
              "      <td>2.45</td>\n",
              "      <td>56</td>\n",
              "      <td>19123</td>\n",
              "      <td>8.8</td>\n",
              "      <td>1</td>\n",
              "    </tr>\n",
              "    <tr>\n",
              "      <th>4</th>\n",
              "      <td>1</td>\n",
              "      <td>5</td>\n",
              "      <td>5</td>\n",
              "      <td>2.58</td>\n",
              "      <td>55</td>\n",
              "      <td>20062</td>\n",
              "      <td>9.1</td>\n",
              "      <td>5</td>\n",
              "    </tr>\n",
              "    <tr>\n",
              "      <th>...</th>\n",
              "      <td>...</td>\n",
              "      <td>...</td>\n",
              "      <td>...</td>\n",
              "      <td>...</td>\n",
              "      <td>...</td>\n",
              "      <td>...</td>\n",
              "      <td>...</td>\n",
              "      <td>...</td>\n",
              "    </tr>\n",
              "    <tr>\n",
              "      <th>68</th>\n",
              "      <td>8</td>\n",
              "      <td>69</td>\n",
              "      <td>2</td>\n",
              "      <td>10.29</td>\n",
              "      <td>58</td>\n",
              "      <td>118605</td>\n",
              "      <td>7.9</td>\n",
              "      <td>0</td>\n",
              "    </tr>\n",
              "    <tr>\n",
              "      <th>69</th>\n",
              "      <td>8</td>\n",
              "      <td>70</td>\n",
              "      <td>3</td>\n",
              "      <td>12.02</td>\n",
              "      <td>82</td>\n",
              "      <td>198482</td>\n",
              "      <td>7.5</td>\n",
              "      <td>7</td>\n",
              "    </tr>\n",
              "    <tr>\n",
              "      <th>70</th>\n",
              "      <td>8</td>\n",
              "      <td>71</td>\n",
              "      <td>4</td>\n",
              "      <td>11.80</td>\n",
              "      <td>78</td>\n",
              "      <td>151229</td>\n",
              "      <td>5.5</td>\n",
              "      <td>2</td>\n",
              "    </tr>\n",
              "    <tr>\n",
              "      <th>71</th>\n",
              "      <td>8</td>\n",
              "      <td>72</td>\n",
              "      <td>5</td>\n",
              "      <td>12.40</td>\n",
              "      <td>78</td>\n",
              "      <td>176140</td>\n",
              "      <td>6.0</td>\n",
              "      <td>7</td>\n",
              "    </tr>\n",
              "    <tr>\n",
              "      <th>72</th>\n",
              "      <td>8</td>\n",
              "      <td>73</td>\n",
              "      <td>6</td>\n",
              "      <td>13.61</td>\n",
              "      <td>80</td>\n",
              "      <td>216879</td>\n",
              "      <td>4.1</td>\n",
              "      <td>1</td>\n",
              "    </tr>\n",
              "  </tbody>\n",
              "</table>\n",
              "<p>73 rows × 8 columns</p>\n",
              "</div>"
            ],
            "text/plain": [
              "    Season  Episode Number  ...  Imdb Rating  Notable Death Count\n",
              "0        1               1  ...          9.0                    4\n",
              "1        1               2  ...          8.8                    3\n",
              "2        1               3  ...          8.7                    0\n",
              "3        1               4  ...          8.8                    1\n",
              "4        1               5  ...          9.1                    5\n",
              "..     ...             ...  ...          ...                  ...\n",
              "68       8              69  ...          7.9                    0\n",
              "69       8              70  ...          7.5                    7\n",
              "70       8              71  ...          5.5                    2\n",
              "71       8              72  ...          6.0                    7\n",
              "72       8              73  ...          4.1                    1\n",
              "\n",
              "[73 rows x 8 columns]"
            ]
          },
          "metadata": {
            "tags": []
          },
          "execution_count": 12
        }
      ]
    },
    {
      "cell_type": "markdown",
      "metadata": {
        "id": "on2XGwEUaXCx"
      },
      "source": [
        "Simple one-line answer to create a new dataframe with only numeric columns:\r\n",
        "\r\n",
        "df.select_dtypes(include=np.number)\r\n",
        "\r\n",
        "If you want the names of numeric columns:\r\n",
        "\r\n",
        "df.select_dtypes(include=np.number).columns.tolist()\r\n"
      ]
    },
    {
      "cell_type": "code",
      "metadata": {
        "colab": {
          "base_uri": "https://localhost:8080/",
          "height": 419
        },
        "id": "eZDTpNkiaNC4",
        "outputId": "f511fd8a-9bd9-4a76-88c4-fc2599d0f5f8"
      },
      "source": [
        "# Select all object type columns\r\n",
        "datacat = data.select_dtypes(include=['object'])\r\n",
        "datacat"
      ],
      "execution_count": 13,
      "outputs": [
        {
          "output_type": "execute_result",
          "data": {
            "text/html": [
              "<div>\n",
              "<style scoped>\n",
              "    .dataframe tbody tr th:only-of-type {\n",
              "        vertical-align: middle;\n",
              "    }\n",
              "\n",
              "    .dataframe tbody tr th {\n",
              "        vertical-align: top;\n",
              "    }\n",
              "\n",
              "    .dataframe thead th {\n",
              "        text-align: right;\n",
              "    }\n",
              "</style>\n",
              "<table border=\"1\" class=\"dataframe\">\n",
              "  <thead>\n",
              "    <tr style=\"text-align: right;\">\n",
              "      <th></th>\n",
              "      <th>Episode Name</th>\n",
              "      <th>Director</th>\n",
              "      <th>Writer</th>\n",
              "      <th>Original Air Date</th>\n",
              "      <th>IMDB Description</th>\n",
              "    </tr>\n",
              "  </thead>\n",
              "  <tbody>\n",
              "    <tr>\n",
              "      <th>0</th>\n",
              "      <td>Winter Is Coming</td>\n",
              "      <td>Tim Van Patten</td>\n",
              "      <td>David Benioff &amp; D. B. Weiss</td>\n",
              "      <td>April 17, 2011</td>\n",
              "      <td>Jon Arryn, the Hand of the King, is dead. King...</td>\n",
              "    </tr>\n",
              "    <tr>\n",
              "      <th>1</th>\n",
              "      <td>The Kingsroad</td>\n",
              "      <td>Tim Van Patten</td>\n",
              "      <td>David Benioff &amp; D. B. Weiss</td>\n",
              "      <td>April 24, 2011</td>\n",
              "      <td>While Bran recovers from his fall, Ned takes o...</td>\n",
              "    </tr>\n",
              "    <tr>\n",
              "      <th>2</th>\n",
              "      <td>Lord Snow</td>\n",
              "      <td>Brian Kirk</td>\n",
              "      <td>David Benioff &amp; D. B. Weiss</td>\n",
              "      <td>May 1, 2011</td>\n",
              "      <td>Lord Stark and his daughters arrive at King's ...</td>\n",
              "    </tr>\n",
              "    <tr>\n",
              "      <th>3</th>\n",
              "      <td>Cripples, Bastards, and Broken Things</td>\n",
              "      <td>Brian Kirk</td>\n",
              "      <td>Bryan Cogman</td>\n",
              "      <td>May 8, 2011</td>\n",
              "      <td>Eddard investigates Jon Arryn's murder. Jon be...</td>\n",
              "    </tr>\n",
              "    <tr>\n",
              "      <th>4</th>\n",
              "      <td>The Wolf and the Lion</td>\n",
              "      <td>Brian Kirk</td>\n",
              "      <td>David Benioff &amp; D. B. Weiss</td>\n",
              "      <td>May 15, 2011</td>\n",
              "      <td>Catelyn has captured Tyrion and plans to bring...</td>\n",
              "    </tr>\n",
              "    <tr>\n",
              "      <th>...</th>\n",
              "      <td>...</td>\n",
              "      <td>...</td>\n",
              "      <td>...</td>\n",
              "      <td>...</td>\n",
              "      <td>...</td>\n",
              "    </tr>\n",
              "    <tr>\n",
              "      <th>68</th>\n",
              "      <td>A Knight of the Seven Kingdoms</td>\n",
              "      <td>David Nutter</td>\n",
              "      <td>Bryan Cogman</td>\n",
              "      <td>April 21, 2019</td>\n",
              "      <td>Jaime faces judgment and Winterfell prepares f...</td>\n",
              "    </tr>\n",
              "    <tr>\n",
              "      <th>69</th>\n",
              "      <td>The Long Night</td>\n",
              "      <td>Miguel Sapochnik</td>\n",
              "      <td>David Benioff &amp; D. B. Weiss</td>\n",
              "      <td>April 28, 2019</td>\n",
              "      <td>The Night King and his army have arrived at Wi...</td>\n",
              "    </tr>\n",
              "    <tr>\n",
              "      <th>70</th>\n",
              "      <td>The Last of the Starks</td>\n",
              "      <td>David Nutter</td>\n",
              "      <td>David Benioff &amp; D. B. Weiss</td>\n",
              "      <td>May 5, 2019</td>\n",
              "      <td>The Battle of Winterfell is over and a new cha...</td>\n",
              "    </tr>\n",
              "    <tr>\n",
              "      <th>71</th>\n",
              "      <td>The Bells</td>\n",
              "      <td>Miguel Sapochnik</td>\n",
              "      <td>David Benioff &amp; D. B. Weiss</td>\n",
              "      <td>May 12, 2019</td>\n",
              "      <td>Forces have arrived at King's Landing for the ...</td>\n",
              "    </tr>\n",
              "    <tr>\n",
              "      <th>72</th>\n",
              "      <td>The Iron Throne</td>\n",
              "      <td>David Benioff &amp; D. B. Weiss</td>\n",
              "      <td>David Benioff &amp; D. B. Weiss</td>\n",
              "      <td>May 19, 2019</td>\n",
              "      <td>In the aftermath of the devastating attack on ...</td>\n",
              "    </tr>\n",
              "  </tbody>\n",
              "</table>\n",
              "<p>73 rows × 5 columns</p>\n",
              "</div>"
            ],
            "text/plain": [
              "                             Episode Name  ...                                   IMDB Description\n",
              "0                        Winter Is Coming  ...  Jon Arryn, the Hand of the King, is dead. King...\n",
              "1                           The Kingsroad  ...  While Bran recovers from his fall, Ned takes o...\n",
              "2                               Lord Snow  ...  Lord Stark and his daughters arrive at King's ...\n",
              "3   Cripples, Bastards, and Broken Things  ...  Eddard investigates Jon Arryn's murder. Jon be...\n",
              "4                   The Wolf and the Lion  ...  Catelyn has captured Tyrion and plans to bring...\n",
              "..                                    ...  ...                                                ...\n",
              "68         A Knight of the Seven Kingdoms  ...  Jaime faces judgment and Winterfell prepares f...\n",
              "69                         The Long Night  ...  The Night King and his army have arrived at Wi...\n",
              "70                 The Last of the Starks  ...  The Battle of Winterfell is over and a new cha...\n",
              "71                              The Bells  ...  Forces have arrived at King's Landing for the ...\n",
              "72                        The Iron Throne  ...  In the aftermath of the devastating attack on ...\n",
              "\n",
              "[73 rows x 5 columns]"
            ]
          },
          "metadata": {
            "tags": []
          },
          "execution_count": 13
        }
      ]
    },
    {
      "cell_type": "code",
      "metadata": {
        "colab": {
          "base_uri": "https://localhost:8080/"
        },
        "id": "Qw3K-dxscDS2",
        "outputId": "93a4da5a-b7c6-4277-cb6a-dd47e4518870"
      },
      "source": [
        "# Column with date\r\n",
        "datadate = datacat['Original Air Date']\r\n",
        "datadate"
      ],
      "execution_count": 14,
      "outputs": [
        {
          "output_type": "execute_result",
          "data": {
            "text/plain": [
              "0     April 17, 2011\n",
              "1     April 24, 2011\n",
              "2        May 1, 2011\n",
              "3        May 8, 2011\n",
              "4       May 15, 2011\n",
              "           ...      \n",
              "68    April 21, 2019\n",
              "69    April 28, 2019\n",
              "70       May 5, 2019\n",
              "71      May 12, 2019\n",
              "72      May 19, 2019\n",
              "Name: Original Air Date, Length: 73, dtype: object"
            ]
          },
          "metadata": {
            "tags": []
          },
          "execution_count": 14
        }
      ]
    },
    {
      "cell_type": "code",
      "metadata": {
        "colab": {
          "base_uri": "https://localhost:8080/",
          "height": 504
        },
        "id": "4xFOgPt9cZvo",
        "outputId": "3d46c423-de71-4aeb-9002-7f91cb08613c"
      },
      "source": [
        "# drop column date from categorical columns\r\n",
        "datacat.drop(['Original Air Date'], axis=1, inplace=True)\r\n",
        "datacat"
      ],
      "execution_count": 15,
      "outputs": [
        {
          "output_type": "stream",
          "text": [
            "/usr/local/lib/python3.6/dist-packages/pandas/core/frame.py:4174: SettingWithCopyWarning: \n",
            "A value is trying to be set on a copy of a slice from a DataFrame\n",
            "\n",
            "See the caveats in the documentation: https://pandas.pydata.org/pandas-docs/stable/user_guide/indexing.html#returning-a-view-versus-a-copy\n",
            "  errors=errors,\n"
          ],
          "name": "stderr"
        },
        {
          "output_type": "execute_result",
          "data": {
            "text/html": [
              "<div>\n",
              "<style scoped>\n",
              "    .dataframe tbody tr th:only-of-type {\n",
              "        vertical-align: middle;\n",
              "    }\n",
              "\n",
              "    .dataframe tbody tr th {\n",
              "        vertical-align: top;\n",
              "    }\n",
              "\n",
              "    .dataframe thead th {\n",
              "        text-align: right;\n",
              "    }\n",
              "</style>\n",
              "<table border=\"1\" class=\"dataframe\">\n",
              "  <thead>\n",
              "    <tr style=\"text-align: right;\">\n",
              "      <th></th>\n",
              "      <th>Episode Name</th>\n",
              "      <th>Director</th>\n",
              "      <th>Writer</th>\n",
              "      <th>IMDB Description</th>\n",
              "    </tr>\n",
              "  </thead>\n",
              "  <tbody>\n",
              "    <tr>\n",
              "      <th>0</th>\n",
              "      <td>Winter Is Coming</td>\n",
              "      <td>Tim Van Patten</td>\n",
              "      <td>David Benioff &amp; D. B. Weiss</td>\n",
              "      <td>Jon Arryn, the Hand of the King, is dead. King...</td>\n",
              "    </tr>\n",
              "    <tr>\n",
              "      <th>1</th>\n",
              "      <td>The Kingsroad</td>\n",
              "      <td>Tim Van Patten</td>\n",
              "      <td>David Benioff &amp; D. B. Weiss</td>\n",
              "      <td>While Bran recovers from his fall, Ned takes o...</td>\n",
              "    </tr>\n",
              "    <tr>\n",
              "      <th>2</th>\n",
              "      <td>Lord Snow</td>\n",
              "      <td>Brian Kirk</td>\n",
              "      <td>David Benioff &amp; D. B. Weiss</td>\n",
              "      <td>Lord Stark and his daughters arrive at King's ...</td>\n",
              "    </tr>\n",
              "    <tr>\n",
              "      <th>3</th>\n",
              "      <td>Cripples, Bastards, and Broken Things</td>\n",
              "      <td>Brian Kirk</td>\n",
              "      <td>Bryan Cogman</td>\n",
              "      <td>Eddard investigates Jon Arryn's murder. Jon be...</td>\n",
              "    </tr>\n",
              "    <tr>\n",
              "      <th>4</th>\n",
              "      <td>The Wolf and the Lion</td>\n",
              "      <td>Brian Kirk</td>\n",
              "      <td>David Benioff &amp; D. B. Weiss</td>\n",
              "      <td>Catelyn has captured Tyrion and plans to bring...</td>\n",
              "    </tr>\n",
              "    <tr>\n",
              "      <th>...</th>\n",
              "      <td>...</td>\n",
              "      <td>...</td>\n",
              "      <td>...</td>\n",
              "      <td>...</td>\n",
              "    </tr>\n",
              "    <tr>\n",
              "      <th>68</th>\n",
              "      <td>A Knight of the Seven Kingdoms</td>\n",
              "      <td>David Nutter</td>\n",
              "      <td>Bryan Cogman</td>\n",
              "      <td>Jaime faces judgment and Winterfell prepares f...</td>\n",
              "    </tr>\n",
              "    <tr>\n",
              "      <th>69</th>\n",
              "      <td>The Long Night</td>\n",
              "      <td>Miguel Sapochnik</td>\n",
              "      <td>David Benioff &amp; D. B. Weiss</td>\n",
              "      <td>The Night King and his army have arrived at Wi...</td>\n",
              "    </tr>\n",
              "    <tr>\n",
              "      <th>70</th>\n",
              "      <td>The Last of the Starks</td>\n",
              "      <td>David Nutter</td>\n",
              "      <td>David Benioff &amp; D. B. Weiss</td>\n",
              "      <td>The Battle of Winterfell is over and a new cha...</td>\n",
              "    </tr>\n",
              "    <tr>\n",
              "      <th>71</th>\n",
              "      <td>The Bells</td>\n",
              "      <td>Miguel Sapochnik</td>\n",
              "      <td>David Benioff &amp; D. B. Weiss</td>\n",
              "      <td>Forces have arrived at King's Landing for the ...</td>\n",
              "    </tr>\n",
              "    <tr>\n",
              "      <th>72</th>\n",
              "      <td>The Iron Throne</td>\n",
              "      <td>David Benioff &amp; D. B. Weiss</td>\n",
              "      <td>David Benioff &amp; D. B. Weiss</td>\n",
              "      <td>In the aftermath of the devastating attack on ...</td>\n",
              "    </tr>\n",
              "  </tbody>\n",
              "</table>\n",
              "<p>73 rows × 4 columns</p>\n",
              "</div>"
            ],
            "text/plain": [
              "                             Episode Name  ...                                   IMDB Description\n",
              "0                        Winter Is Coming  ...  Jon Arryn, the Hand of the King, is dead. King...\n",
              "1                           The Kingsroad  ...  While Bran recovers from his fall, Ned takes o...\n",
              "2                               Lord Snow  ...  Lord Stark and his daughters arrive at King's ...\n",
              "3   Cripples, Bastards, and Broken Things  ...  Eddard investigates Jon Arryn's murder. Jon be...\n",
              "4                   The Wolf and the Lion  ...  Catelyn has captured Tyrion and plans to bring...\n",
              "..                                    ...  ...                                                ...\n",
              "68         A Knight of the Seven Kingdoms  ...  Jaime faces judgment and Winterfell prepares f...\n",
              "69                         The Long Night  ...  The Night King and his army have arrived at Wi...\n",
              "70                 The Last of the Starks  ...  The Battle of Winterfell is over and a new cha...\n",
              "71                              The Bells  ...  Forces have arrived at King's Landing for the ...\n",
              "72                        The Iron Throne  ...  In the aftermath of the devastating attack on ...\n",
              "\n",
              "[73 rows x 4 columns]"
            ]
          },
          "metadata": {
            "tags": []
          },
          "execution_count": 15
        }
      ]
    },
    {
      "cell_type": "code",
      "metadata": {
        "colab": {
          "base_uri": "https://localhost:8080/"
        },
        "id": "AJYBJqg4ef7F",
        "outputId": "61866704-460e-4630-ba9d-24c846956939"
      },
      "source": [
        "# Group common variables together.\r\n",
        "\r\n",
        "datanum,datacat,datadate"
      ],
      "execution_count": 16,
      "outputs": [
        {
          "output_type": "execute_result",
          "data": {
            "text/plain": [
              "(    Season  Episode Number  ...  Imdb Rating  Notable Death Count\n",
              " 0        1               1  ...          9.0                    4\n",
              " 1        1               2  ...          8.8                    3\n",
              " 2        1               3  ...          8.7                    0\n",
              " 3        1               4  ...          8.8                    1\n",
              " 4        1               5  ...          9.1                    5\n",
              " ..     ...             ...  ...          ...                  ...\n",
              " 68       8              69  ...          7.9                    0\n",
              " 69       8              70  ...          7.5                    7\n",
              " 70       8              71  ...          5.5                    2\n",
              " 71       8              72  ...          6.0                    7\n",
              " 72       8              73  ...          4.1                    1\n",
              " \n",
              " [73 rows x 8 columns],\n",
              "                              Episode Name  ...                                   IMDB Description\n",
              " 0                        Winter Is Coming  ...  Jon Arryn, the Hand of the King, is dead. King...\n",
              " 1                           The Kingsroad  ...  While Bran recovers from his fall, Ned takes o...\n",
              " 2                               Lord Snow  ...  Lord Stark and his daughters arrive at King's ...\n",
              " 3   Cripples, Bastards, and Broken Things  ...  Eddard investigates Jon Arryn's murder. Jon be...\n",
              " 4                   The Wolf and the Lion  ...  Catelyn has captured Tyrion and plans to bring...\n",
              " ..                                    ...  ...                                                ...\n",
              " 68         A Knight of the Seven Kingdoms  ...  Jaime faces judgment and Winterfell prepares f...\n",
              " 69                         The Long Night  ...  The Night King and his army have arrived at Wi...\n",
              " 70                 The Last of the Starks  ...  The Battle of Winterfell is over and a new cha...\n",
              " 71                              The Bells  ...  Forces have arrived at King's Landing for the ...\n",
              " 72                        The Iron Throne  ...  In the aftermath of the devastating attack on ...\n",
              " \n",
              " [73 rows x 4 columns],\n",
              " 0     April 17, 2011\n",
              " 1     April 24, 2011\n",
              " 2        May 1, 2011\n",
              " 3        May 8, 2011\n",
              " 4       May 15, 2011\n",
              "            ...      \n",
              " 68    April 21, 2019\n",
              " 69    April 28, 2019\n",
              " 70       May 5, 2019\n",
              " 71      May 12, 2019\n",
              " 72      May 19, 2019\n",
              " Name: Original Air Date, Length: 73, dtype: object)"
            ]
          },
          "metadata": {
            "tags": []
          },
          "execution_count": 16
        }
      ]
    },
    {
      "cell_type": "markdown",
      "metadata": {
        "id": "J38rteJTg4KT"
      },
      "source": [
        "# Univariate Analysis\r\n",
        "\r\n",
        "Look at one variable at a time.\r\n"
      ]
    },
    {
      "cell_type": "markdown",
      "metadata": {
        "id": "KAPJsxmQhDxs"
      },
      "source": [
        "## Categorical Variable\r\n",
        "\r\n",
        "\r\n",
        "There is less available options with categorical variables\r\n",
        "\r\n",
        "Count the frequency of each variable\r\n",
        "\r\n",
        "Low frequency strings might be outliers\r\n",
        "\r\n",
        "You might want to relabel low frequency strings 'other'\r\n",
        "\r\n",
        "Find the number of unique labels for each column\r\n",
        "\r\n",
        "In pandas, change the data type to categorical (better when there aren't too many unique values)\r\n",
        "\r\n",
        "Bar plots of counts\r\n",
        "\r\n",
        "String columns allow for feature engineering by splitting the string, counting certain letters, finding the length of, etc... Feature engineering can be done later when modeling\r\n"
      ]
    },
    {
      "cell_type": "code",
      "metadata": {
        "colab": {
          "base_uri": "https://localhost:8080/"
        },
        "id": "45HmD4OniGGb",
        "outputId": "c1495720-35a0-42a0-ef82-fae20edd5413"
      },
      "source": [
        "datacat.columns"
      ],
      "execution_count": 17,
      "outputs": [
        {
          "output_type": "execute_result",
          "data": {
            "text/plain": [
              "Index(['Episode Name', 'Director', 'Writer', 'IMDB Description'], dtype='object')"
            ]
          },
          "metadata": {
            "tags": []
          },
          "execution_count": 17
        }
      ]
    },
    {
      "cell_type": "code",
      "metadata": {
        "colab": {
          "base_uri": "https://localhost:8080/"
        },
        "id": "QZcLt80xhHLj",
        "outputId": "21dedf8a-8fff-4c0c-9dfa-bfa8793ee595"
      },
      "source": [
        "# How many different directors worked at Game of Thrones\r\n",
        "# David Nutter 9,Alan Taylor 7,Miguel Sapochnik 6,Mark Mylod 6,Jeremy Podeswa 6,Alex Graves 6 have Directed most episodes.\r\n",
        "datacat['Director'].value_counts() # normalize=True for percentage"
      ],
      "execution_count": 18,
      "outputs": [
        {
          "output_type": "execute_result",
          "data": {
            "text/plain": [
              "David Nutter                   9\n",
              "Alan Taylor                    7\n",
              "Miguel Sapochnik               6\n",
              "Mark Mylod                     6\n",
              "Jeremy Podeswa                 6\n",
              "Alex Graves                    6\n",
              "Daniel Minahan                 5\n",
              "Alik Sakharov                  4\n",
              "Michelle MacLaren              4\n",
              "Brian Kirk                     3\n",
              "Jack Bender                    2\n",
              "Matt Shakman                   2\n",
              "David Petrarca                 2\n",
              "Neil Marshall                  2\n",
              "Tim Van Patten                 2\n",
              "Michael Slovis                 2\n",
              "Daniel Sackheim                2\n",
              "David Benioff & D. B. Weiss    1\n",
              "D. B. Weiss                    1\n",
              "David Benioff                  1\n",
              "Name: Director, dtype: int64"
            ]
          },
          "metadata": {
            "tags": []
          },
          "execution_count": 18
        }
      ]
    },
    {
      "cell_type": "code",
      "metadata": {
        "colab": {
          "base_uri": "https://localhost:8080/"
        },
        "id": "Ge2okJY5WFVS",
        "outputId": "08e07036-7440-4efd-d4c4-c13e958e40b7"
      },
      "source": [
        "# Different Writers that worked on Game of Thrones\r\n",
        "datacat['Writer'].value_counts()"
      ],
      "execution_count": 19,
      "outputs": [
        {
          "output_type": "execute_result",
          "data": {
            "text/plain": [
              "David Benioff & D. B. Weiss                                  42\n",
              "Bryan Cogman                                                 11\n",
              "David Benioff & D. B. Weiss                                   7\n",
              "George R. R. Martin                                           4\n",
              "Dave Hill                                                     4\n",
              "Vanessa Taylor                                                3\n",
              "Story by : Jane Espenson and David Benioff & D. B. Weiss      1\n",
              "David Benioff & D. B. Weiss                                   1\n",
              "Name: Writer, dtype: int64"
            ]
          },
          "metadata": {
            "tags": []
          },
          "execution_count": 19
        }
      ]
    },
    {
      "cell_type": "code",
      "metadata": {
        "colab": {
          "base_uri": "https://localhost:8080/"
        },
        "id": "202WPowiWlui",
        "outputId": "62caf61e-8a1b-42db-9ac1-6749380e2dfc"
      },
      "source": [
        "# Number of unique values in Categorical columns\r\n",
        "for col in datacat:\r\n",
        "    print(datacat[col].nunique())\r\n"
      ],
      "execution_count": 20,
      "outputs": [
        {
          "output_type": "stream",
          "text": [
            "73\n",
            "20\n",
            "8\n",
            "73\n"
          ],
          "name": "stdout"
        }
      ]
    },
    {
      "cell_type": "code",
      "metadata": {
        "id": "SF3_PBC_XxxA"
      },
      "source": [
        "import matplotlib.pyplot as plt\r\n",
        "import seaborn as sns\r\n"
      ],
      "execution_count": 21,
      "outputs": []
    },
    {
      "cell_type": "code",
      "metadata": {
        "colab": {
          "base_uri": "https://localhost:8080/",
          "height": 282
        },
        "id": "1dTRg8TRXTan",
        "outputId": "4d599247-62b3-41b0-cf66-a02049cebe25"
      },
      "source": [
        "# Bar plots of counts\r\n",
        "sns.countplot(y=\"Writer\", data=datacat, order = datacat['Writer'].value_counts().index)\r\n",
        "plt.show()"
      ],
      "execution_count": 109,
      "outputs": [
        {
          "output_type": "display_data",
          "data": {
            "image/png": "[encoded data removed]",
            "text/plain": [
              "<Figure size 432x288 with 1 Axes>"
            ]
          },
          "metadata": {
            "tags": []
          }
        }
      ]
    },
    {
      "cell_type": "code",
      "metadata": {
        "colab": {
          "base_uri": "https://localhost:8080/",
          "height": 282
        },
        "id": "QzGF2T4NY0uA",
        "outputId": "f0fe6b4e-be78-4586-b0a7-168deed2654b"
      },
      "source": [
        "sns.countplot(y=\"Director\", data=datacat, order = datacat['Director'].value_counts().index)\r\n",
        "plt.show()"
      ],
      "execution_count": 110,
      "outputs": [
        {
          "output_type": "display_data",
          "data": {
            "image/png": "[encoded data removed]",
            "text/plain": [
              "<Figure size 432x288 with 1 Axes>"
            ]
          },
          "metadata": {
            "tags": []
          }
        }
      ]
    },
    {
      "cell_type": "markdown",
      "metadata": {
        "id": "AOm7dn_tZvCX"
      },
      "source": [
        "## Continuous variables\r\n",
        "\r\n",
        "There are a lot more options for continuous variables\r\n",
        "\r\n",
        "Use the five number summary - with .describe\r\n",
        "\r\n",
        "Boxplots are great ways to find outliers\r\n",
        "\r\n",
        "Use histograms and kernel density estimators to visualize the distribution.\r\n",
        "\r\n",
        "Know the shape of the distribution\r\n",
        "\r\n",
        "Think about making categorical variables out of continuous variables by cutting \r\n",
        "them into bins.\r\n",
        "\r\n",
        "**Outliers in one dimension**\r\n",
        "\r\n",
        "    Use your natural human ability to look at boxplots to find thresholds for what an outlier might be\r\n",
        "\r\n",
        "    Generate a new column of data that is 0/1 for outlier or not. This will quickly help you find them later.\r\n",
        "\r\n",
        "**Grapical**\r\n",
        "\r\n",
        "Histogram/rugplot/KDE, box/violin/swarm, qqplot, fat tails\t\r\n",
        "\r\n",
        "**Non-Graphical**\r\n",
        "\r\n",
        "central tendency -mean/median/mode, spread - variance, std, skew, kurt, IQR"
      ]
    },
    {
      "cell_type": "code",
      "metadata": {
        "colab": {
          "base_uri": "https://localhost:8080/",
          "height": 0
        },
        "id": "MlygnPaSg94o",
        "outputId": "a75fe1b7-a739-457a-b76f-d6f00a063d35"
      },
      "source": [
        "# Basic Statistic of numerical variables\r\n",
        "datanum.describe().T"
      ],
      "execution_count": 24,
      "outputs": [
        {
          "output_type": "execute_result",
          "data": {
            "text/html": [
              "<div>\n",
              "<style scoped>\n",
              "    .dataframe tbody tr th:only-of-type {\n",
              "        vertical-align: middle;\n",
              "    }\n",
              "\n",
              "    .dataframe tbody tr th {\n",
              "        vertical-align: top;\n",
              "    }\n",
              "\n",
              "    .dataframe thead th {\n",
              "        text-align: right;\n",
              "    }\n",
              "</style>\n",
              "<table border=\"1\" class=\"dataframe\">\n",
              "  <thead>\n",
              "    <tr style=\"text-align: right;\">\n",
              "      <th></th>\n",
              "      <th>count</th>\n",
              "      <th>mean</th>\n",
              "      <th>std</th>\n",
              "      <th>min</th>\n",
              "      <th>25%</th>\n",
              "      <th>50%</th>\n",
              "      <th>75%</th>\n",
              "      <th>max</th>\n",
              "    </tr>\n",
              "  </thead>\n",
              "  <tbody>\n",
              "    <tr>\n",
              "      <th>Season</th>\n",
              "      <td>73.0</td>\n",
              "      <td>4.205479</td>\n",
              "      <td>2.191897</td>\n",
              "      <td>1.0</td>\n",
              "      <td>2.0</td>\n",
              "      <td>4.00</td>\n",
              "      <td>6.00</td>\n",
              "      <td>8.00</td>\n",
              "    </tr>\n",
              "    <tr>\n",
              "      <th>Episode Number</th>\n",
              "      <td>73.0</td>\n",
              "      <td>37.000000</td>\n",
              "      <td>21.217131</td>\n",
              "      <td>1.0</td>\n",
              "      <td>19.0</td>\n",
              "      <td>37.00</td>\n",
              "      <td>55.00</td>\n",
              "      <td>73.00</td>\n",
              "    </tr>\n",
              "    <tr>\n",
              "      <th>Number in Season</th>\n",
              "      <td>73.0</td>\n",
              "      <td>5.191781</td>\n",
              "      <td>2.821827</td>\n",
              "      <td>1.0</td>\n",
              "      <td>3.0</td>\n",
              "      <td>5.00</td>\n",
              "      <td>7.00</td>\n",
              "      <td>10.00</td>\n",
              "    </tr>\n",
              "    <tr>\n",
              "      <th>US viewers (million)</th>\n",
              "      <td>73.0</td>\n",
              "      <td>6.446712</td>\n",
              "      <td>2.825016</td>\n",
              "      <td>2.2</td>\n",
              "      <td>3.9</td>\n",
              "      <td>6.64</td>\n",
              "      <td>7.82</td>\n",
              "      <td>13.61</td>\n",
              "    </tr>\n",
              "    <tr>\n",
              "      <th>Runtime (mins)</th>\n",
              "      <td>73.0</td>\n",
              "      <td>57.726027</td>\n",
              "      <td>7.251935</td>\n",
              "      <td>50.0</td>\n",
              "      <td>53.0</td>\n",
              "      <td>56.00</td>\n",
              "      <td>59.00</td>\n",
              "      <td>82.00</td>\n",
              "    </tr>\n",
              "    <tr>\n",
              "      <th>IMDB votes</th>\n",
              "      <td>73.0</td>\n",
              "      <td>40185.000000</td>\n",
              "      <td>44304.997159</td>\n",
              "      <td>16496.0</td>\n",
              "      <td>18075.0</td>\n",
              "      <td>23207.00</td>\n",
              "      <td>32906.00</td>\n",
              "      <td>216879.00</td>\n",
              "    </tr>\n",
              "    <tr>\n",
              "      <th>Imdb Rating</th>\n",
              "      <td>73.0</td>\n",
              "      <td>8.891781</td>\n",
              "      <td>0.931360</td>\n",
              "      <td>4.1</td>\n",
              "      <td>8.7</td>\n",
              "      <td>9.00</td>\n",
              "      <td>9.40</td>\n",
              "      <td>9.90</td>\n",
              "    </tr>\n",
              "    <tr>\n",
              "      <th>Notable Death Count</th>\n",
              "      <td>73.0</td>\n",
              "      <td>3.178082</td>\n",
              "      <td>2.394104</td>\n",
              "      <td>0.0</td>\n",
              "      <td>1.0</td>\n",
              "      <td>3.00</td>\n",
              "      <td>4.00</td>\n",
              "      <td>11.00</td>\n",
              "    </tr>\n",
              "  </tbody>\n",
              "</table>\n",
              "</div>"
            ],
            "text/plain": [
              "                      count          mean  ...       75%        max\n",
              "Season                 73.0      4.205479  ...      6.00       8.00\n",
              "Episode Number         73.0     37.000000  ...     55.00      73.00\n",
              "Number in Season       73.0      5.191781  ...      7.00      10.00\n",
              "US viewers (million)   73.0      6.446712  ...      7.82      13.61\n",
              "Runtime (mins)         73.0     57.726027  ...     59.00      82.00\n",
              "IMDB votes             73.0  40185.000000  ...  32906.00  216879.00\n",
              "Imdb Rating            73.0      8.891781  ...      9.40       9.90\n",
              "Notable Death Count    73.0      3.178082  ...      4.00      11.00\n",
              "\n",
              "[8 rows x 8 columns]"
            ]
          },
          "metadata": {
            "tags": []
          },
          "execution_count": 24
        }
      ]
    },
    {
      "cell_type": "code",
      "metadata": {
        "colab": {
          "base_uri": "https://localhost:8080/"
        },
        "id": "_wfNoqe7br-N",
        "outputId": "0f1afd92-1f6e-4ad4-dda4-b079a65797f6"
      },
      "source": [
        "datanum.columns"
      ],
      "execution_count": 25,
      "outputs": [
        {
          "output_type": "execute_result",
          "data": {
            "text/plain": [
              "Index(['Season', 'Episode Number', 'Number in Season', 'US viewers (million)',\n",
              "       'Runtime (mins)', 'IMDB votes', 'Imdb Rating', 'Notable Death Count'],\n",
              "      dtype='object')"
            ]
          },
          "metadata": {
            "tags": []
          },
          "execution_count": 25
        }
      ]
    },
    {
      "cell_type": "code",
      "metadata": {
        "colab": {
          "base_uri": "https://localhost:8080/",
          "height": 336
        },
        "id": "UCJFm3S3a8K-",
        "outputId": "51f8de10-2314-44c6-edfa-02e9cf2d0fa7"
      },
      "source": [
        "boxplot = datanum.boxplot(column=['Season', 'Episode Number', 'Number in Season', 'US viewers (million)',\r\n",
        "       'Runtime (mins)', 'Imdb Rating', 'Notable Death Count'], rot=45)\r\n",
        "# Outliers in Runtime, Imdb Rating and Notable Death Count"
      ],
      "execution_count": 111,
      "outputs": [
        {
          "output_type": "display_data",
          "data": {
            "image/png": "[encoded data removed]",
            "text/plain": [
              "<Figure size 432x288 with 1 Axes>"
            ]
          },
          "metadata": {
            "tags": []
          }
        }
      ]
    },
    {
      "cell_type": "code",
      "metadata": {
        "colab": {
          "base_uri": "https://localhost:8080/",
          "height": 267
        },
        "id": "03RFsmnnc7xC",
        "outputId": "9fed143b-c612-41aa-95cc-41ac01602a6c"
      },
      "source": [
        "# Outliers in Imdb Votes\r\n",
        "boxplotimdbvotes = datanum.boxplot(column=['IMDB votes'])\r\n"
      ],
      "execution_count": 112,
      "outputs": [
        {
          "output_type": "display_data",
          "data": {
            "image/png": "[encoded data removed]",
            "text/plain": [
              "<Figure size 432x288 with 1 Axes>"
            ]
          },
          "metadata": {
            "tags": []
          }
        }
      ]
    },
    {
      "cell_type": "code",
      "metadata": {
        "colab": {
          "base_uri": "https://localhost:8080/",
          "height": 710
        },
        "id": "FLEPnd46YRHv",
        "outputId": "ab512ef7-a31c-4c4f-f74a-96f3f2c948a2"
      },
      "source": [
        "# Outliers in Imdb Votes episodes with more than 50000 votes\r\n",
        "imdbvotesOutliers = data[data['IMDB votes'] > 50000]\r\n",
        "imdbvotesOutliers"
      ],
      "execution_count": 115,
      "outputs": [
        {
          "output_type": "execute_result",
          "data": {
            "text/html": [
              "<div>\n",
              "<style scoped>\n",
              "    .dataframe tbody tr th:only-of-type {\n",
              "        vertical-align: middle;\n",
              "    }\n",
              "\n",
              "    .dataframe tbody tr th {\n",
              "        vertical-align: top;\n",
              "    }\n",
              "\n",
              "    .dataframe thead th {\n",
              "        text-align: right;\n",
              "    }\n",
              "</style>\n",
              "<table border=\"1\" class=\"dataframe\">\n",
              "  <thead>\n",
              "    <tr style=\"text-align: right;\">\n",
              "      <th></th>\n",
              "      <th>Season</th>\n",
              "      <th>Episode Number</th>\n",
              "      <th>Number in Season</th>\n",
              "      <th>Episode Name</th>\n",
              "      <th>Director</th>\n",
              "      <th>Writer</th>\n",
              "      <th>Original Air Date</th>\n",
              "      <th>US viewers (million)</th>\n",
              "      <th>Runtime (mins)</th>\n",
              "      <th>IMDB Description</th>\n",
              "      <th>IMDB votes</th>\n",
              "      <th>Imdb Rating</th>\n",
              "      <th>Notable Death Count</th>\n",
              "    </tr>\n",
              "  </thead>\n",
              "  <tbody>\n",
              "    <tr>\n",
              "      <th>28</th>\n",
              "      <td>3</td>\n",
              "      <td>29</td>\n",
              "      <td>9</td>\n",
              "      <td>The Rains of Castamere</td>\n",
              "      <td>David Nutter</td>\n",
              "      <td>David Benioff &amp; D. B. Weiss</td>\n",
              "      <td>June 2, 2013</td>\n",
              "      <td>5.22</td>\n",
              "      <td>51</td>\n",
              "      <td>Robb and Catelyn arrive at the Twins for the w...</td>\n",
              "      <td>68630</td>\n",
              "      <td>9.9</td>\n",
              "      <td>8</td>\n",
              "    </tr>\n",
              "    <tr>\n",
              "      <th>47</th>\n",
              "      <td>5</td>\n",
              "      <td>48</td>\n",
              "      <td>8</td>\n",
              "      <td>Hardhome</td>\n",
              "      <td>Miguel Sapochnik</td>\n",
              "      <td>David Benioff &amp; D. B. Weiss</td>\n",
              "      <td>May 31, 2015</td>\n",
              "      <td>7.01</td>\n",
              "      <td>61</td>\n",
              "      <td>Tyrion advises Daenerys. Sansa forces Theon to...</td>\n",
              "      <td>71476</td>\n",
              "      <td>9.9</td>\n",
              "      <td>4</td>\n",
              "    </tr>\n",
              "    <tr>\n",
              "      <th>54</th>\n",
              "      <td>6</td>\n",
              "      <td>55</td>\n",
              "      <td>5</td>\n",
              "      <td>The Door</td>\n",
              "      <td>Jack Bender</td>\n",
              "      <td>David Benioff &amp; D. B. Weiss</td>\n",
              "      <td>May 22, 2016</td>\n",
              "      <td>7.89</td>\n",
              "      <td>57</td>\n",
              "      <td>Sansa and Jon make plans. Arya is given anothe...</td>\n",
              "      <td>51836</td>\n",
              "      <td>9.7</td>\n",
              "      <td>5</td>\n",
              "    </tr>\n",
              "    <tr>\n",
              "      <th>58</th>\n",
              "      <td>6</td>\n",
              "      <td>59</td>\n",
              "      <td>9</td>\n",
              "      <td>Battle of the Bastards</td>\n",
              "      <td>Miguel Sapochnik</td>\n",
              "      <td>David Benioff &amp; D. B. Weiss</td>\n",
              "      <td>June 19, 2016</td>\n",
              "      <td>7.66</td>\n",
              "      <td>60</td>\n",
              "      <td>Jon and Sansa face Ramsay Bolton on the fields...</td>\n",
              "      <td>159082</td>\n",
              "      <td>9.9</td>\n",
              "      <td>4</td>\n",
              "    </tr>\n",
              "    <tr>\n",
              "      <th>59</th>\n",
              "      <td>6</td>\n",
              "      <td>60</td>\n",
              "      <td>10</td>\n",
              "      <td>The Winds of Winter</td>\n",
              "      <td>Miguel Sapochnik</td>\n",
              "      <td>David Benioff &amp; D. B. Weiss</td>\n",
              "      <td>June 26, 2016</td>\n",
              "      <td>8.89</td>\n",
              "      <td>68</td>\n",
              "      <td>Cersei and Loras Tyrell stand trial by the god...</td>\n",
              "      <td>109392</td>\n",
              "      <td>9.9</td>\n",
              "      <td>11</td>\n",
              "    </tr>\n",
              "    <tr>\n",
              "      <th>63</th>\n",
              "      <td>7</td>\n",
              "      <td>64</td>\n",
              "      <td>4</td>\n",
              "      <td>The Spoils of War</td>\n",
              "      <td>Matt Shakman</td>\n",
              "      <td>David Benioff &amp; D. B. Weiss</td>\n",
              "      <td>August 6, 2017</td>\n",
              "      <td>10.17</td>\n",
              "      <td>50</td>\n",
              "      <td>Daenerys takes matters into her own hands. Ary...</td>\n",
              "      <td>64201</td>\n",
              "      <td>9.8</td>\n",
              "      <td>0</td>\n",
              "    </tr>\n",
              "    <tr>\n",
              "      <th>67</th>\n",
              "      <td>8</td>\n",
              "      <td>68</td>\n",
              "      <td>1</td>\n",
              "      <td>Winterfell</td>\n",
              "      <td>David Nutter</td>\n",
              "      <td>Dave Hill</td>\n",
              "      <td>April 14, 2019</td>\n",
              "      <td>11.76</td>\n",
              "      <td>54</td>\n",
              "      <td>Jon and Daenerys arrive in Winterfell and are ...</td>\n",
              "      <td>120508</td>\n",
              "      <td>7.6</td>\n",
              "      <td>1</td>\n",
              "    </tr>\n",
              "    <tr>\n",
              "      <th>68</th>\n",
              "      <td>8</td>\n",
              "      <td>69</td>\n",
              "      <td>2</td>\n",
              "      <td>A Knight of the Seven Kingdoms</td>\n",
              "      <td>David Nutter</td>\n",
              "      <td>Bryan Cogman</td>\n",
              "      <td>April 21, 2019</td>\n",
              "      <td>10.29</td>\n",
              "      <td>58</td>\n",
              "      <td>Jaime faces judgment and Winterfell prepares f...</td>\n",
              "      <td>118605</td>\n",
              "      <td>7.9</td>\n",
              "      <td>0</td>\n",
              "    </tr>\n",
              "    <tr>\n",
              "      <th>69</th>\n",
              "      <td>8</td>\n",
              "      <td>70</td>\n",
              "      <td>3</td>\n",
              "      <td>The Long Night</td>\n",
              "      <td>Miguel Sapochnik</td>\n",
              "      <td>David Benioff &amp; D. B. Weiss</td>\n",
              "      <td>April 28, 2019</td>\n",
              "      <td>12.02</td>\n",
              "      <td>82</td>\n",
              "      <td>The Night King and his army have arrived at Wi...</td>\n",
              "      <td>198482</td>\n",
              "      <td>7.5</td>\n",
              "      <td>7</td>\n",
              "    </tr>\n",
              "    <tr>\n",
              "      <th>70</th>\n",
              "      <td>8</td>\n",
              "      <td>71</td>\n",
              "      <td>4</td>\n",
              "      <td>The Last of the Starks</td>\n",
              "      <td>David Nutter</td>\n",
              "      <td>David Benioff &amp; D. B. Weiss</td>\n",
              "      <td>May 5, 2019</td>\n",
              "      <td>11.80</td>\n",
              "      <td>78</td>\n",
              "      <td>The Battle of Winterfell is over and a new cha...</td>\n",
              "      <td>151229</td>\n",
              "      <td>5.5</td>\n",
              "      <td>2</td>\n",
              "    </tr>\n",
              "    <tr>\n",
              "      <th>71</th>\n",
              "      <td>8</td>\n",
              "      <td>72</td>\n",
              "      <td>5</td>\n",
              "      <td>The Bells</td>\n",
              "      <td>Miguel Sapochnik</td>\n",
              "      <td>David Benioff &amp; D. B. Weiss</td>\n",
              "      <td>May 12, 2019</td>\n",
              "      <td>12.40</td>\n",
              "      <td>78</td>\n",
              "      <td>Forces have arrived at King's Landing for the ...</td>\n",
              "      <td>176140</td>\n",
              "      <td>6.0</td>\n",
              "      <td>7</td>\n",
              "    </tr>\n",
              "    <tr>\n",
              "      <th>72</th>\n",
              "      <td>8</td>\n",
              "      <td>73</td>\n",
              "      <td>6</td>\n",
              "      <td>The Iron Throne</td>\n",
              "      <td>David Benioff &amp; D. B. Weiss</td>\n",
              "      <td>David Benioff &amp; D. B. Weiss</td>\n",
              "      <td>May 19, 2019</td>\n",
              "      <td>13.61</td>\n",
              "      <td>80</td>\n",
              "      <td>In the aftermath of the devastating attack on ...</td>\n",
              "      <td>216879</td>\n",
              "      <td>4.1</td>\n",
              "      <td>1</td>\n",
              "    </tr>\n",
              "  </tbody>\n",
              "</table>\n",
              "</div>"
            ],
            "text/plain": [
              "    Season  Episode Number  ...  Imdb Rating Notable Death Count\n",
              "28       3              29  ...          9.9                   8\n",
              "47       5              48  ...          9.9                   4\n",
              "54       6              55  ...          9.7                   5\n",
              "58       6              59  ...          9.9                   4\n",
              "59       6              60  ...          9.9                  11\n",
              "63       7              64  ...          9.8                   0\n",
              "67       8              68  ...          7.6                   1\n",
              "68       8              69  ...          7.9                   0\n",
              "69       8              70  ...          7.5                   7\n",
              "70       8              71  ...          5.5                   2\n",
              "71       8              72  ...          6.0                   7\n",
              "72       8              73  ...          4.1                   1\n",
              "\n",
              "[12 rows x 13 columns]"
            ]
          },
          "metadata": {
            "tags": []
          },
          "execution_count": 115
        }
      ]
    },
    {
      "cell_type": "code",
      "metadata": {
        "colab": {
          "base_uri": "https://localhost:8080/",
          "height": 265
        },
        "id": "qxYbIm28dLLs",
        "outputId": "8e7afa82-3607-4b45-8f2f-42b2701f641f"
      },
      "source": [
        "boxplotImdbRating = datanum.boxplot(column=['Imdb Rating'])\r\n"
      ],
      "execution_count": 116,
      "outputs": [
        {
          "output_type": "display_data",
          "data": {
            "image/png": "[encoded data removed]",
            "text/plain": [
              "<Figure size 432x288 with 1 Axes>"
            ]
          },
          "metadata": {
            "tags": []
          }
        }
      ]
    },
    {
      "cell_type": "code",
      "metadata": {
        "colab": {
          "base_uri": "https://localhost:8080/",
          "height": 340
        },
        "id": "0FZCpj3xZITM",
        "outputId": "1f84e2db-2ec7-4c70-f8f6-db42e79c4fad"
      },
      "source": [
        "# Outliers in Imdb Ratings episodes with less than 7.8 rating\r\n",
        "ImdbRatingsOutliers = data[data['Imdb Rating'] < 7.8]\r\n",
        "ImdbRatingsOutliers\r\n",
        "\r\n",
        "# All Espisodes are from 8 season"
      ],
      "execution_count": 118,
      "outputs": [
        {
          "output_type": "execute_result",
          "data": {
            "text/html": [
              "<div>\n",
              "<style scoped>\n",
              "    .dataframe tbody tr th:only-of-type {\n",
              "        vertical-align: middle;\n",
              "    }\n",
              "\n",
              "    .dataframe tbody tr th {\n",
              "        vertical-align: top;\n",
              "    }\n",
              "\n",
              "    .dataframe thead th {\n",
              "        text-align: right;\n",
              "    }\n",
              "</style>\n",
              "<table border=\"1\" class=\"dataframe\">\n",
              "  <thead>\n",
              "    <tr style=\"text-align: right;\">\n",
              "      <th></th>\n",
              "      <th>Season</th>\n",
              "      <th>Episode Number</th>\n",
              "      <th>Number in Season</th>\n",
              "      <th>Episode Name</th>\n",
              "      <th>Director</th>\n",
              "      <th>Writer</th>\n",
              "      <th>Original Air Date</th>\n",
              "      <th>US viewers (million)</th>\n",
              "      <th>Runtime (mins)</th>\n",
              "      <th>IMDB Description</th>\n",
              "      <th>IMDB votes</th>\n",
              "      <th>Imdb Rating</th>\n",
              "      <th>Notable Death Count</th>\n",
              "    </tr>\n",
              "  </thead>\n",
              "  <tbody>\n",
              "    <tr>\n",
              "      <th>67</th>\n",
              "      <td>8</td>\n",
              "      <td>68</td>\n",
              "      <td>1</td>\n",
              "      <td>Winterfell</td>\n",
              "      <td>David Nutter</td>\n",
              "      <td>Dave Hill</td>\n",
              "      <td>April 14, 2019</td>\n",
              "      <td>11.76</td>\n",
              "      <td>54</td>\n",
              "      <td>Jon and Daenerys arrive in Winterfell and are ...</td>\n",
              "      <td>120508</td>\n",
              "      <td>7.6</td>\n",
              "      <td>1</td>\n",
              "    </tr>\n",
              "    <tr>\n",
              "      <th>69</th>\n",
              "      <td>8</td>\n",
              "      <td>70</td>\n",
              "      <td>3</td>\n",
              "      <td>The Long Night</td>\n",
              "      <td>Miguel Sapochnik</td>\n",
              "      <td>David Benioff &amp; D. B. Weiss</td>\n",
              "      <td>April 28, 2019</td>\n",
              "      <td>12.02</td>\n",
              "      <td>82</td>\n",
              "      <td>The Night King and his army have arrived at Wi...</td>\n",
              "      <td>198482</td>\n",
              "      <td>7.5</td>\n",
              "      <td>7</td>\n",
              "    </tr>\n",
              "    <tr>\n",
              "      <th>70</th>\n",
              "      <td>8</td>\n",
              "      <td>71</td>\n",
              "      <td>4</td>\n",
              "      <td>The Last of the Starks</td>\n",
              "      <td>David Nutter</td>\n",
              "      <td>David Benioff &amp; D. B. Weiss</td>\n",
              "      <td>May 5, 2019</td>\n",
              "      <td>11.80</td>\n",
              "      <td>78</td>\n",
              "      <td>The Battle of Winterfell is over and a new cha...</td>\n",
              "      <td>151229</td>\n",
              "      <td>5.5</td>\n",
              "      <td>2</td>\n",
              "    </tr>\n",
              "    <tr>\n",
              "      <th>71</th>\n",
              "      <td>8</td>\n",
              "      <td>72</td>\n",
              "      <td>5</td>\n",
              "      <td>The Bells</td>\n",
              "      <td>Miguel Sapochnik</td>\n",
              "      <td>David Benioff &amp; D. B. Weiss</td>\n",
              "      <td>May 12, 2019</td>\n",
              "      <td>12.40</td>\n",
              "      <td>78</td>\n",
              "      <td>Forces have arrived at King's Landing for the ...</td>\n",
              "      <td>176140</td>\n",
              "      <td>6.0</td>\n",
              "      <td>7</td>\n",
              "    </tr>\n",
              "    <tr>\n",
              "      <th>72</th>\n",
              "      <td>8</td>\n",
              "      <td>73</td>\n",
              "      <td>6</td>\n",
              "      <td>The Iron Throne</td>\n",
              "      <td>David Benioff &amp; D. B. Weiss</td>\n",
              "      <td>David Benioff &amp; D. B. Weiss</td>\n",
              "      <td>May 19, 2019</td>\n",
              "      <td>13.61</td>\n",
              "      <td>80</td>\n",
              "      <td>In the aftermath of the devastating attack on ...</td>\n",
              "      <td>216879</td>\n",
              "      <td>4.1</td>\n",
              "      <td>1</td>\n",
              "    </tr>\n",
              "  </tbody>\n",
              "</table>\n",
              "</div>"
            ],
            "text/plain": [
              "    Season  Episode Number  ...  Imdb Rating Notable Death Count\n",
              "67       8              68  ...          7.6                   1\n",
              "69       8              70  ...          7.5                   7\n",
              "70       8              71  ...          5.5                   2\n",
              "71       8              72  ...          6.0                   7\n",
              "72       8              73  ...          4.1                   1\n",
              "\n",
              "[5 rows x 13 columns]"
            ]
          },
          "metadata": {
            "tags": []
          },
          "execution_count": 118
        }
      ]
    },
    {
      "cell_type": "code",
      "metadata": {
        "colab": {
          "base_uri": "https://localhost:8080/",
          "height": 265
        },
        "id": "jIDwtbz9daDO",
        "outputId": "5ef71e3f-99fc-473a-bc52-c0ac7ba9194d"
      },
      "source": [
        "\r\n",
        "boxplotNotableDeathCount = datanum.boxplot(column=['Notable Death Count'])\r\n"
      ],
      "execution_count": 119,
      "outputs": [
        {
          "output_type": "display_data",
          "data": {
            "image/png": "[encoded data removed]",
            "text/plain": [
              "<Figure size 432x288 with 1 Axes>"
            ]
          },
          "metadata": {
            "tags": []
          }
        }
      ]
    },
    {
      "cell_type": "code",
      "metadata": {
        "colab": {
          "base_uri": "https://localhost:8080/",
          "height": 179
        },
        "id": "XM1oBgbcalU3",
        "outputId": "70eb4b6b-491c-4a2d-dcb3-125a7ed89255"
      },
      "source": [
        "# Outliers in Notable Death Count episodes with more than 8 deaths\r\n",
        "NotableDeathCountOutliers = data[data['Notable Death Count'] > 8]\r\n",
        "NotableDeathCountOutliers\r\n",
        "\r\n"
      ],
      "execution_count": 120,
      "outputs": [
        {
          "output_type": "execute_result",
          "data": {
            "text/html": [
              "<div>\n",
              "<style scoped>\n",
              "    .dataframe tbody tr th:only-of-type {\n",
              "        vertical-align: middle;\n",
              "    }\n",
              "\n",
              "    .dataframe tbody tr th {\n",
              "        vertical-align: top;\n",
              "    }\n",
              "\n",
              "    .dataframe thead th {\n",
              "        text-align: right;\n",
              "    }\n",
              "</style>\n",
              "<table border=\"1\" class=\"dataframe\">\n",
              "  <thead>\n",
              "    <tr style=\"text-align: right;\">\n",
              "      <th></th>\n",
              "      <th>Season</th>\n",
              "      <th>Episode Number</th>\n",
              "      <th>Number in Season</th>\n",
              "      <th>Episode Name</th>\n",
              "      <th>Director</th>\n",
              "      <th>Writer</th>\n",
              "      <th>Original Air Date</th>\n",
              "      <th>US viewers (million)</th>\n",
              "      <th>Runtime (mins)</th>\n",
              "      <th>IMDB Description</th>\n",
              "      <th>IMDB votes</th>\n",
              "      <th>Imdb Rating</th>\n",
              "      <th>Notable Death Count</th>\n",
              "    </tr>\n",
              "  </thead>\n",
              "  <tbody>\n",
              "    <tr>\n",
              "      <th>38</th>\n",
              "      <td>4</td>\n",
              "      <td>39</td>\n",
              "      <td>9</td>\n",
              "      <td>The Watchers on the Wall</td>\n",
              "      <td>Neil Marshall</td>\n",
              "      <td>David Benioff &amp; D. B. Weiss</td>\n",
              "      <td>June 8, 2014</td>\n",
              "      <td>6.95</td>\n",
              "      <td>51</td>\n",
              "      <td>The battle between the Night's Watch and the w...</td>\n",
              "      <td>30073</td>\n",
              "      <td>9.6</td>\n",
              "      <td>10</td>\n",
              "    </tr>\n",
              "    <tr>\n",
              "      <th>59</th>\n",
              "      <td>6</td>\n",
              "      <td>60</td>\n",
              "      <td>10</td>\n",
              "      <td>The Winds of Winter</td>\n",
              "      <td>Miguel Sapochnik</td>\n",
              "      <td>David Benioff &amp; D. B. Weiss</td>\n",
              "      <td>June 26, 2016</td>\n",
              "      <td>8.89</td>\n",
              "      <td>68</td>\n",
              "      <td>Cersei and Loras Tyrell stand trial by the god...</td>\n",
              "      <td>109392</td>\n",
              "      <td>9.9</td>\n",
              "      <td>11</td>\n",
              "    </tr>\n",
              "  </tbody>\n",
              "</table>\n",
              "</div>"
            ],
            "text/plain": [
              "    Season  Episode Number  ...  Imdb Rating Notable Death Count\n",
              "38       4              39  ...          9.6                  10\n",
              "59       6              60  ...          9.9                  11\n",
              "\n",
              "[2 rows x 13 columns]"
            ]
          },
          "metadata": {
            "tags": []
          },
          "execution_count": 120
        }
      ]
    },
    {
      "cell_type": "code",
      "metadata": {
        "colab": {
          "base_uri": "https://localhost:8080/",
          "height": 500
        },
        "id": "-XuHCmzJeR9r",
        "outputId": "5ad81568-d094-45b6-84b8-6c87925f68b2"
      },
      "source": [
        "hist = datanum.hist(bins=8, figsize=(15,8))\r\n"
      ],
      "execution_count": 121,
      "outputs": [
        {
          "output_type": "display_data",
          "data": {
            "image/png": "[encoded data removed]",
            "text/plain": [
              "<Figure size 1080x576 with 9 Axes>"
            ]
          },
          "metadata": {
            "tags": []
          }
        }
      ]
    },
    {
      "cell_type": "markdown",
      "metadata": {
        "id": "cGsKSkoigXne"
      },
      "source": [
        "# Bivariate Analysis\r\n",
        "\r\n",
        "\r\n",
        "**Categorical vs Categorical**\r\n",
        "> Create two way contingency table of frequency counts\r\n",
        "\r\n",
        ">Create a heat map\r\n",
        "\r\n",
        ">Find expected counts and possibly do a chi-squared test\r\n",
        "\r\n",
        "\r\n",
        "\r\n",
        "\r\n",
        "**Categorical vs Continuous**\r\n",
        "Use the seaborn categorical plots\r\n",
        "\r\n",
        "**Continuous vs Continuous**\r\n",
        "Plot all combinations of scatterplots\r\n",
        "\r\n",
        "Use a hierarchical clustering plot\r\n"
      ]
    },
    {
      "cell_type": "markdown",
      "metadata": {
        "id": "jbewFpR3iHl8"
      },
      "source": [
        "## Categorical vs Categorical"
      ]
    },
    {
      "cell_type": "code",
      "metadata": {
        "colab": {
          "base_uri": "https://localhost:8080/"
        },
        "id": "4KjDpWeOaMMu",
        "outputId": "8fc8df5a-d5a9-49ce-ca93-739b2fe9d0ce"
      },
      "source": [
        "datacat.columns"
      ],
      "execution_count": 31,
      "outputs": [
        {
          "output_type": "execute_result",
          "data": {
            "text/plain": [
              "Index(['Episode Name', 'Director', 'Writer', 'IMDB Description'], dtype='object')"
            ]
          },
          "metadata": {
            "tags": []
          },
          "execution_count": 31
        }
      ]
    },
    {
      "cell_type": "code",
      "metadata": {
        "colab": {
          "base_uri": "https://localhost:8080/",
          "height": 751
        },
        "id": "ch_N8ACXgAYM",
        "outputId": "db89293d-815b-46e8-c0c7-6edf0a94268c"
      },
      "source": [
        "# Writers and Directors that worked together\r\n",
        "data_crosstab = pd.crosstab(datacat['Director'],  \r\n",
        "                            datacat['Writer'], \r\n",
        "                                margins = False) \r\n",
        "data_crosstab"
      ],
      "execution_count": 32,
      "outputs": [
        {
          "output_type": "execute_result",
          "data": {
            "text/html": [
              "<div>\n",
              "<style scoped>\n",
              "    .dataframe tbody tr th:only-of-type {\n",
              "        vertical-align: middle;\n",
              "    }\n",
              "\n",
              "    .dataframe tbody tr th {\n",
              "        vertical-align: top;\n",
              "    }\n",
              "\n",
              "    .dataframe thead th {\n",
              "        text-align: right;\n",
              "    }\n",
              "</style>\n",
              "<table border=\"1\" class=\"dataframe\">\n",
              "  <thead>\n",
              "    <tr style=\"text-align: right;\">\n",
              "      <th>Writer</th>\n",
              "      <th>Bryan Cogman</th>\n",
              "      <th>Dave Hill</th>\n",
              "      <th>David Benioff &amp; D. B. Weiss</th>\n",
              "      <th>David Benioff &amp; D. B. Weiss</th>\n",
              "      <th>David Benioff &amp; D. B. Weiss</th>\n",
              "      <th>George R. R. Martin</th>\n",
              "      <th>Story by : Jane Espenson and David Benioff &amp; D. B. Weiss</th>\n",
              "      <th>Vanessa Taylor</th>\n",
              "    </tr>\n",
              "    <tr>\n",
              "      <th>Director</th>\n",
              "      <th></th>\n",
              "      <th></th>\n",
              "      <th></th>\n",
              "      <th></th>\n",
              "      <th></th>\n",
              "      <th></th>\n",
              "      <th></th>\n",
              "      <th></th>\n",
              "    </tr>\n",
              "  </thead>\n",
              "  <tbody>\n",
              "    <tr>\n",
              "      <th>Alan Taylor</th>\n",
              "      <td>0</td>\n",
              "      <td>0</td>\n",
              "      <td>6</td>\n",
              "      <td>0</td>\n",
              "      <td>1</td>\n",
              "      <td>0</td>\n",
              "      <td>0</td>\n",
              "      <td>0</td>\n",
              "    </tr>\n",
              "    <tr>\n",
              "      <th>Alex Graves</th>\n",
              "      <td>1</td>\n",
              "      <td>0</td>\n",
              "      <td>4</td>\n",
              "      <td>0</td>\n",
              "      <td>0</td>\n",
              "      <td>1</td>\n",
              "      <td>0</td>\n",
              "      <td>0</td>\n",
              "    </tr>\n",
              "    <tr>\n",
              "      <th>Alik Sakharov</th>\n",
              "      <td>2</td>\n",
              "      <td>0</td>\n",
              "      <td>2</td>\n",
              "      <td>0</td>\n",
              "      <td>0</td>\n",
              "      <td>0</td>\n",
              "      <td>0</td>\n",
              "      <td>0</td>\n",
              "    </tr>\n",
              "    <tr>\n",
              "      <th>Brian Kirk</th>\n",
              "      <td>1</td>\n",
              "      <td>0</td>\n",
              "      <td>2</td>\n",
              "      <td>0</td>\n",
              "      <td>0</td>\n",
              "      <td>0</td>\n",
              "      <td>0</td>\n",
              "      <td>0</td>\n",
              "    </tr>\n",
              "    <tr>\n",
              "      <th>D. B. Weiss</th>\n",
              "      <td>0</td>\n",
              "      <td>0</td>\n",
              "      <td>0</td>\n",
              "      <td>1</td>\n",
              "      <td>0</td>\n",
              "      <td>0</td>\n",
              "      <td>0</td>\n",
              "      <td>0</td>\n",
              "    </tr>\n",
              "    <tr>\n",
              "      <th>Daniel Minahan</th>\n",
              "      <td>0</td>\n",
              "      <td>0</td>\n",
              "      <td>1</td>\n",
              "      <td>0</td>\n",
              "      <td>1</td>\n",
              "      <td>1</td>\n",
              "      <td>1</td>\n",
              "      <td>1</td>\n",
              "    </tr>\n",
              "    <tr>\n",
              "      <th>Daniel Sackheim</th>\n",
              "      <td>0</td>\n",
              "      <td>0</td>\n",
              "      <td>2</td>\n",
              "      <td>0</td>\n",
              "      <td>0</td>\n",
              "      <td>0</td>\n",
              "      <td>0</td>\n",
              "      <td>0</td>\n",
              "    </tr>\n",
              "    <tr>\n",
              "      <th>David Benioff</th>\n",
              "      <td>0</td>\n",
              "      <td>0</td>\n",
              "      <td>1</td>\n",
              "      <td>0</td>\n",
              "      <td>0</td>\n",
              "      <td>0</td>\n",
              "      <td>0</td>\n",
              "      <td>0</td>\n",
              "    </tr>\n",
              "    <tr>\n",
              "      <th>David Benioff &amp; D. B. Weiss</th>\n",
              "      <td>0</td>\n",
              "      <td>0</td>\n",
              "      <td>1</td>\n",
              "      <td>0</td>\n",
              "      <td>0</td>\n",
              "      <td>0</td>\n",
              "      <td>0</td>\n",
              "      <td>0</td>\n",
              "    </tr>\n",
              "    <tr>\n",
              "      <th>David Nutter</th>\n",
              "      <td>1</td>\n",
              "      <td>1</td>\n",
              "      <td>6</td>\n",
              "      <td>0</td>\n",
              "      <td>0</td>\n",
              "      <td>0</td>\n",
              "      <td>0</td>\n",
              "      <td>1</td>\n",
              "    </tr>\n",
              "    <tr>\n",
              "      <th>David Petrarca</th>\n",
              "      <td>0</td>\n",
              "      <td>0</td>\n",
              "      <td>1</td>\n",
              "      <td>0</td>\n",
              "      <td>0</td>\n",
              "      <td>0</td>\n",
              "      <td>0</td>\n",
              "      <td>1</td>\n",
              "    </tr>\n",
              "    <tr>\n",
              "      <th>Jack Bender</th>\n",
              "      <td>1</td>\n",
              "      <td>0</td>\n",
              "      <td>1</td>\n",
              "      <td>0</td>\n",
              "      <td>0</td>\n",
              "      <td>0</td>\n",
              "      <td>0</td>\n",
              "      <td>0</td>\n",
              "    </tr>\n",
              "    <tr>\n",
              "      <th>Jeremy Podeswa</th>\n",
              "      <td>2</td>\n",
              "      <td>1</td>\n",
              "      <td>1</td>\n",
              "      <td>0</td>\n",
              "      <td>2</td>\n",
              "      <td>0</td>\n",
              "      <td>0</td>\n",
              "      <td>0</td>\n",
              "    </tr>\n",
              "    <tr>\n",
              "      <th>Mark Mylod</th>\n",
              "      <td>2</td>\n",
              "      <td>1</td>\n",
              "      <td>3</td>\n",
              "      <td>0</td>\n",
              "      <td>0</td>\n",
              "      <td>0</td>\n",
              "      <td>0</td>\n",
              "      <td>0</td>\n",
              "    </tr>\n",
              "    <tr>\n",
              "      <th>Matt Shakman</th>\n",
              "      <td>0</td>\n",
              "      <td>1</td>\n",
              "      <td>1</td>\n",
              "      <td>0</td>\n",
              "      <td>0</td>\n",
              "      <td>0</td>\n",
              "      <td>0</td>\n",
              "      <td>0</td>\n",
              "    </tr>\n",
              "    <tr>\n",
              "      <th>Michael Slovis</th>\n",
              "      <td>0</td>\n",
              "      <td>0</td>\n",
              "      <td>1</td>\n",
              "      <td>0</td>\n",
              "      <td>1</td>\n",
              "      <td>0</td>\n",
              "      <td>0</td>\n",
              "      <td>0</td>\n",
              "    </tr>\n",
              "    <tr>\n",
              "      <th>Michelle MacLaren</th>\n",
              "      <td>1</td>\n",
              "      <td>0</td>\n",
              "      <td>2</td>\n",
              "      <td>0</td>\n",
              "      <td>0</td>\n",
              "      <td>1</td>\n",
              "      <td>0</td>\n",
              "      <td>0</td>\n",
              "    </tr>\n",
              "    <tr>\n",
              "      <th>Miguel Sapochnik</th>\n",
              "      <td>0</td>\n",
              "      <td>0</td>\n",
              "      <td>5</td>\n",
              "      <td>0</td>\n",
              "      <td>1</td>\n",
              "      <td>0</td>\n",
              "      <td>0</td>\n",
              "      <td>0</td>\n",
              "    </tr>\n",
              "    <tr>\n",
              "      <th>Neil Marshall</th>\n",
              "      <td>0</td>\n",
              "      <td>0</td>\n",
              "      <td>1</td>\n",
              "      <td>0</td>\n",
              "      <td>0</td>\n",
              "      <td>1</td>\n",
              "      <td>0</td>\n",
              "      <td>0</td>\n",
              "    </tr>\n",
              "    <tr>\n",
              "      <th>Tim Van Patten</th>\n",
              "      <td>0</td>\n",
              "      <td>0</td>\n",
              "      <td>1</td>\n",
              "      <td>0</td>\n",
              "      <td>1</td>\n",
              "      <td>0</td>\n",
              "      <td>0</td>\n",
              "      <td>0</td>\n",
              "    </tr>\n",
              "  </tbody>\n",
              "</table>\n",
              "</div>"
            ],
            "text/plain": [
              "Writer                       Bryan Cogman  ...  Vanessa Taylor\n",
              "Director                                   ...                \n",
              "Alan Taylor                             0  ...               0\n",
              "Alex Graves                             1  ...               0\n",
              "Alik Sakharov                           2  ...               0\n",
              "Brian Kirk                              1  ...               0\n",
              "D. B. Weiss                             0  ...               0\n",
              "Daniel Minahan                          0  ...               1\n",
              "Daniel Sackheim                         0  ...               0\n",
              "David Benioff                           0  ...               0\n",
              "David Benioff & D. B. Weiss             0  ...               0\n",
              "David Nutter                            1  ...               1\n",
              "David Petrarca                          0  ...               1\n",
              "Jack Bender                             1  ...               0\n",
              "Jeremy Podeswa                          2  ...               0\n",
              "Mark Mylod                              2  ...               0\n",
              "Matt Shakman                            0  ...               0\n",
              "Michael Slovis                          0  ...               0\n",
              "Michelle MacLaren                       1  ...               0\n",
              "Miguel Sapochnik                        0  ...               0\n",
              "Neil Marshall                           0  ...               0\n",
              "Tim Van Patten                          0  ...               0\n",
              "\n",
              "[20 rows x 8 columns]"
            ]
          },
          "metadata": {
            "tags": []
          },
          "execution_count": 32
        }
      ]
    },
    {
      "cell_type": "code",
      "metadata": {
        "id": "TNu4hg8GgcPg",
        "colab": {
          "base_uri": "https://localhost:8080/",
          "height": 700
        },
        "outputId": "72c8576e-8819-4c2a-a191-430578589eb5"
      },
      "source": [
        "# What season did Directors worked on.\r\n",
        "data_directorseason = pd.crosstab(datacat['Director'],  \r\n",
        "                                  datanum['Season'], \r\n",
        "                                margins = False) \r\n",
        "data_directorseason"
      ],
      "execution_count": 37,
      "outputs": [
        {
          "output_type": "execute_result",
          "data": {
            "text/html": [
              "<div>\n",
              "<style scoped>\n",
              "    .dataframe tbody tr th:only-of-type {\n",
              "        vertical-align: middle;\n",
              "    }\n",
              "\n",
              "    .dataframe tbody tr th {\n",
              "        vertical-align: top;\n",
              "    }\n",
              "\n",
              "    .dataframe thead th {\n",
              "        text-align: right;\n",
              "    }\n",
              "</style>\n",
              "<table border=\"1\" class=\"dataframe\">\n",
              "  <thead>\n",
              "    <tr style=\"text-align: right;\">\n",
              "      <th>Season</th>\n",
              "      <th>1</th>\n",
              "      <th>2</th>\n",
              "      <th>3</th>\n",
              "      <th>4</th>\n",
              "      <th>5</th>\n",
              "      <th>6</th>\n",
              "      <th>7</th>\n",
              "      <th>8</th>\n",
              "    </tr>\n",
              "    <tr>\n",
              "      <th>Director</th>\n",
              "      <th></th>\n",
              "      <th></th>\n",
              "      <th></th>\n",
              "      <th></th>\n",
              "      <th></th>\n",
              "      <th></th>\n",
              "      <th></th>\n",
              "      <th></th>\n",
              "    </tr>\n",
              "  </thead>\n",
              "  <tbody>\n",
              "    <tr>\n",
              "      <th>Alan Taylor</th>\n",
              "      <td>2</td>\n",
              "      <td>4</td>\n",
              "      <td>0</td>\n",
              "      <td>0</td>\n",
              "      <td>0</td>\n",
              "      <td>0</td>\n",
              "      <td>1</td>\n",
              "      <td>0</td>\n",
              "    </tr>\n",
              "    <tr>\n",
              "      <th>Alex Graves</th>\n",
              "      <td>0</td>\n",
              "      <td>0</td>\n",
              "      <td>2</td>\n",
              "      <td>4</td>\n",
              "      <td>0</td>\n",
              "      <td>0</td>\n",
              "      <td>0</td>\n",
              "      <td>0</td>\n",
              "    </tr>\n",
              "    <tr>\n",
              "      <th>Alik Sakharov</th>\n",
              "      <td>0</td>\n",
              "      <td>1</td>\n",
              "      <td>1</td>\n",
              "      <td>2</td>\n",
              "      <td>0</td>\n",
              "      <td>0</td>\n",
              "      <td>0</td>\n",
              "      <td>0</td>\n",
              "    </tr>\n",
              "    <tr>\n",
              "      <th>Brian Kirk</th>\n",
              "      <td>3</td>\n",
              "      <td>0</td>\n",
              "      <td>0</td>\n",
              "      <td>0</td>\n",
              "      <td>0</td>\n",
              "      <td>0</td>\n",
              "      <td>0</td>\n",
              "      <td>0</td>\n",
              "    </tr>\n",
              "    <tr>\n",
              "      <th>D. B. Weiss</th>\n",
              "      <td>0</td>\n",
              "      <td>0</td>\n",
              "      <td>0</td>\n",
              "      <td>1</td>\n",
              "      <td>0</td>\n",
              "      <td>0</td>\n",
              "      <td>0</td>\n",
              "      <td>0</td>\n",
              "    </tr>\n",
              "    <tr>\n",
              "      <th>Daniel Minahan</th>\n",
              "      <td>3</td>\n",
              "      <td>0</td>\n",
              "      <td>2</td>\n",
              "      <td>0</td>\n",
              "      <td>0</td>\n",
              "      <td>0</td>\n",
              "      <td>0</td>\n",
              "      <td>0</td>\n",
              "    </tr>\n",
              "    <tr>\n",
              "      <th>Daniel Sackheim</th>\n",
              "      <td>0</td>\n",
              "      <td>0</td>\n",
              "      <td>0</td>\n",
              "      <td>0</td>\n",
              "      <td>0</td>\n",
              "      <td>2</td>\n",
              "      <td>0</td>\n",
              "      <td>0</td>\n",
              "    </tr>\n",
              "    <tr>\n",
              "      <th>David Benioff</th>\n",
              "      <td>0</td>\n",
              "      <td>0</td>\n",
              "      <td>1</td>\n",
              "      <td>0</td>\n",
              "      <td>0</td>\n",
              "      <td>0</td>\n",
              "      <td>0</td>\n",
              "      <td>0</td>\n",
              "    </tr>\n",
              "    <tr>\n",
              "      <th>David Benioff &amp; D. B. Weiss</th>\n",
              "      <td>0</td>\n",
              "      <td>0</td>\n",
              "      <td>0</td>\n",
              "      <td>0</td>\n",
              "      <td>0</td>\n",
              "      <td>0</td>\n",
              "      <td>0</td>\n",
              "      <td>1</td>\n",
              "    </tr>\n",
              "    <tr>\n",
              "      <th>David Nutter</th>\n",
              "      <td>0</td>\n",
              "      <td>2</td>\n",
              "      <td>2</td>\n",
              "      <td>0</td>\n",
              "      <td>2</td>\n",
              "      <td>0</td>\n",
              "      <td>0</td>\n",
              "      <td>3</td>\n",
              "    </tr>\n",
              "    <tr>\n",
              "      <th>David Petrarca</th>\n",
              "      <td>0</td>\n",
              "      <td>2</td>\n",
              "      <td>0</td>\n",
              "      <td>0</td>\n",
              "      <td>0</td>\n",
              "      <td>0</td>\n",
              "      <td>0</td>\n",
              "      <td>0</td>\n",
              "    </tr>\n",
              "    <tr>\n",
              "      <th>Jack Bender</th>\n",
              "      <td>0</td>\n",
              "      <td>0</td>\n",
              "      <td>0</td>\n",
              "      <td>0</td>\n",
              "      <td>0</td>\n",
              "      <td>2</td>\n",
              "      <td>0</td>\n",
              "      <td>0</td>\n",
              "    </tr>\n",
              "    <tr>\n",
              "      <th>Jeremy Podeswa</th>\n",
              "      <td>0</td>\n",
              "      <td>0</td>\n",
              "      <td>0</td>\n",
              "      <td>0</td>\n",
              "      <td>2</td>\n",
              "      <td>2</td>\n",
              "      <td>2</td>\n",
              "      <td>0</td>\n",
              "    </tr>\n",
              "    <tr>\n",
              "      <th>Mark Mylod</th>\n",
              "      <td>0</td>\n",
              "      <td>0</td>\n",
              "      <td>0</td>\n",
              "      <td>0</td>\n",
              "      <td>2</td>\n",
              "      <td>2</td>\n",
              "      <td>2</td>\n",
              "      <td>0</td>\n",
              "    </tr>\n",
              "    <tr>\n",
              "      <th>Matt Shakman</th>\n",
              "      <td>0</td>\n",
              "      <td>0</td>\n",
              "      <td>0</td>\n",
              "      <td>0</td>\n",
              "      <td>0</td>\n",
              "      <td>0</td>\n",
              "      <td>2</td>\n",
              "      <td>0</td>\n",
              "    </tr>\n",
              "    <tr>\n",
              "      <th>Michael Slovis</th>\n",
              "      <td>0</td>\n",
              "      <td>0</td>\n",
              "      <td>0</td>\n",
              "      <td>0</td>\n",
              "      <td>2</td>\n",
              "      <td>0</td>\n",
              "      <td>0</td>\n",
              "      <td>0</td>\n",
              "    </tr>\n",
              "    <tr>\n",
              "      <th>Michelle MacLaren</th>\n",
              "      <td>0</td>\n",
              "      <td>0</td>\n",
              "      <td>2</td>\n",
              "      <td>2</td>\n",
              "      <td>0</td>\n",
              "      <td>0</td>\n",
              "      <td>0</td>\n",
              "      <td>0</td>\n",
              "    </tr>\n",
              "    <tr>\n",
              "      <th>Miguel Sapochnik</th>\n",
              "      <td>0</td>\n",
              "      <td>0</td>\n",
              "      <td>0</td>\n",
              "      <td>0</td>\n",
              "      <td>2</td>\n",
              "      <td>2</td>\n",
              "      <td>0</td>\n",
              "      <td>2</td>\n",
              "    </tr>\n",
              "    <tr>\n",
              "      <th>Neil Marshall</th>\n",
              "      <td>0</td>\n",
              "      <td>1</td>\n",
              "      <td>0</td>\n",
              "      <td>1</td>\n",
              "      <td>0</td>\n",
              "      <td>0</td>\n",
              "      <td>0</td>\n",
              "      <td>0</td>\n",
              "    </tr>\n",
              "    <tr>\n",
              "      <th>Tim Van Patten</th>\n",
              "      <td>2</td>\n",
              "      <td>0</td>\n",
              "      <td>0</td>\n",
              "      <td>0</td>\n",
              "      <td>0</td>\n",
              "      <td>0</td>\n",
              "      <td>0</td>\n",
              "      <td>0</td>\n",
              "    </tr>\n",
              "  </tbody>\n",
              "</table>\n",
              "</div>"
            ],
            "text/plain": [
              "Season                       1  2  3  4  5  6  7  8\n",
              "Director                                           \n",
              "Alan Taylor                  2  4  0  0  0  0  1  0\n",
              "Alex Graves                  0  0  2  4  0  0  0  0\n",
              "Alik Sakharov                0  1  1  2  0  0  0  0\n",
              "Brian Kirk                   3  0  0  0  0  0  0  0\n",
              "D. B. Weiss                  0  0  0  1  0  0  0  0\n",
              "Daniel Minahan               3  0  2  0  0  0  0  0\n",
              "Daniel Sackheim              0  0  0  0  0  2  0  0\n",
              "David Benioff                0  0  1  0  0  0  0  0\n",
              "David Benioff & D. B. Weiss  0  0  0  0  0  0  0  1\n",
              "David Nutter                 0  2  2  0  2  0  0  3\n",
              "David Petrarca               0  2  0  0  0  0  0  0\n",
              "Jack Bender                  0  0  0  0  0  2  0  0\n",
              "Jeremy Podeswa               0  0  0  0  2  2  2  0\n",
              "Mark Mylod                   0  0  0  0  2  2  2  0\n",
              "Matt Shakman                 0  0  0  0  0  0  2  0\n",
              "Michael Slovis               0  0  0  0  2  0  0  0\n",
              "Michelle MacLaren            0  0  2  2  0  0  0  0\n",
              "Miguel Sapochnik             0  0  0  0  2  2  0  2\n",
              "Neil Marshall                0  1  0  1  0  0  0  0\n",
              "Tim Van Patten               2  0  0  0  0  0  0  0"
            ]
          },
          "metadata": {
            "tags": []
          },
          "execution_count": 37
        }
      ]
    },
    {
      "cell_type": "code",
      "metadata": {
        "colab": {
          "base_uri": "https://localhost:8080/",
          "height": 328
        },
        "id": "VXUgovqYhAgM",
        "outputId": "ed9de706-a9fc-4068-90f5-a9df3c0dfb20"
      },
      "source": [
        "# What season did Writers worked on.\r\n",
        "data_WriterSeason = pd.crosstab(datacat['Writer'],  \r\n",
        "                                  datanum['Season'], \r\n",
        "                                margins = False) \r\n",
        "data_WriterSeason"
      ],
      "execution_count": 38,
      "outputs": [
        {
          "output_type": "execute_result",
          "data": {
            "text/html": [
              "<div>\n",
              "<style scoped>\n",
              "    .dataframe tbody tr th:only-of-type {\n",
              "        vertical-align: middle;\n",
              "    }\n",
              "\n",
              "    .dataframe tbody tr th {\n",
              "        vertical-align: top;\n",
              "    }\n",
              "\n",
              "    .dataframe thead th {\n",
              "        text-align: right;\n",
              "    }\n",
              "</style>\n",
              "<table border=\"1\" class=\"dataframe\">\n",
              "  <thead>\n",
              "    <tr style=\"text-align: right;\">\n",
              "      <th>Season</th>\n",
              "      <th>1</th>\n",
              "      <th>2</th>\n",
              "      <th>3</th>\n",
              "      <th>4</th>\n",
              "      <th>5</th>\n",
              "      <th>6</th>\n",
              "      <th>7</th>\n",
              "      <th>8</th>\n",
              "    </tr>\n",
              "    <tr>\n",
              "      <th>Writer</th>\n",
              "      <th></th>\n",
              "      <th></th>\n",
              "      <th></th>\n",
              "      <th></th>\n",
              "      <th></th>\n",
              "      <th></th>\n",
              "      <th></th>\n",
              "      <th></th>\n",
              "    </tr>\n",
              "  </thead>\n",
              "  <tbody>\n",
              "    <tr>\n",
              "      <th>Bryan Cogman</th>\n",
              "      <td>1</td>\n",
              "      <td>1</td>\n",
              "      <td>1</td>\n",
              "      <td>2</td>\n",
              "      <td>2</td>\n",
              "      <td>2</td>\n",
              "      <td>1</td>\n",
              "      <td>1</td>\n",
              "    </tr>\n",
              "    <tr>\n",
              "      <th>Dave Hill</th>\n",
              "      <td>0</td>\n",
              "      <td>0</td>\n",
              "      <td>0</td>\n",
              "      <td>0</td>\n",
              "      <td>1</td>\n",
              "      <td>1</td>\n",
              "      <td>1</td>\n",
              "      <td>1</td>\n",
              "    </tr>\n",
              "    <tr>\n",
              "      <th>David Benioff &amp; D. B. Weiss</th>\n",
              "      <td>6</td>\n",
              "      <td>5</td>\n",
              "      <td>6</td>\n",
              "      <td>6</td>\n",
              "      <td>6</td>\n",
              "      <td>6</td>\n",
              "      <td>4</td>\n",
              "      <td>3</td>\n",
              "    </tr>\n",
              "    <tr>\n",
              "      <th>David Benioff &amp; D. B. Weiss</th>\n",
              "      <td>0</td>\n",
              "      <td>0</td>\n",
              "      <td>0</td>\n",
              "      <td>1</td>\n",
              "      <td>0</td>\n",
              "      <td>0</td>\n",
              "      <td>0</td>\n",
              "      <td>0</td>\n",
              "    </tr>\n",
              "    <tr>\n",
              "      <th>David Benioff &amp; D. B. Weiss</th>\n",
              "      <td>1</td>\n",
              "      <td>1</td>\n",
              "      <td>1</td>\n",
              "      <td>0</td>\n",
              "      <td>1</td>\n",
              "      <td>1</td>\n",
              "      <td>1</td>\n",
              "      <td>1</td>\n",
              "    </tr>\n",
              "    <tr>\n",
              "      <th>George R. R. Martin</th>\n",
              "      <td>1</td>\n",
              "      <td>1</td>\n",
              "      <td>1</td>\n",
              "      <td>1</td>\n",
              "      <td>0</td>\n",
              "      <td>0</td>\n",
              "      <td>0</td>\n",
              "      <td>0</td>\n",
              "    </tr>\n",
              "    <tr>\n",
              "      <th>Story by : Jane Espenson and David Benioff &amp; D. B. Weiss</th>\n",
              "      <td>1</td>\n",
              "      <td>0</td>\n",
              "      <td>0</td>\n",
              "      <td>0</td>\n",
              "      <td>0</td>\n",
              "      <td>0</td>\n",
              "      <td>0</td>\n",
              "      <td>0</td>\n",
              "    </tr>\n",
              "    <tr>\n",
              "      <th>Vanessa Taylor</th>\n",
              "      <td>0</td>\n",
              "      <td>2</td>\n",
              "      <td>1</td>\n",
              "      <td>0</td>\n",
              "      <td>0</td>\n",
              "      <td>0</td>\n",
              "      <td>0</td>\n",
              "      <td>0</td>\n",
              "    </tr>\n",
              "  </tbody>\n",
              "</table>\n",
              "</div>"
            ],
            "text/plain": [
              "Season                                              1  2  3  4  5  6  7  8\n",
              "Writer                                                                    \n",
              "Bryan Cogman                                        1  1  1  2  2  2  1  1\n",
              "Dave Hill                                           0  0  0  0  1  1  1  1\n",
              "David Benioff & D. B. Weiss                         6  5  6  6  6  6  4  3\n",
              "David Benioff & D. B. Weiss                         0  0  0  1  0  0  0  0\n",
              "David Benioff & D. B. Weiss                         1  1  1  0  1  1  1  1\n",
              "George R. R. Martin                                 1  1  1  1  0  0  0  0\n",
              "Story by : Jane Espenson and David Benioff & D....  1  0  0  0  0  0  0  0\n",
              "Vanessa Taylor                                      0  2  1  0  0  0  0  0"
            ]
          },
          "metadata": {
            "tags": []
          },
          "execution_count": 38
        }
      ]
    },
    {
      "cell_type": "markdown",
      "metadata": {
        "id": "lwEsiALsiKjL"
      },
      "source": [
        "## Continuous vs Continuous"
      ]
    },
    {
      "cell_type": "code",
      "metadata": {
        "colab": {
          "base_uri": "https://localhost:8080/"
        },
        "id": "c41nBApfiOg9",
        "outputId": "98f96ea3-6a57-4608-e001-5cae28b66055"
      },
      "source": [
        "datacat.columns, datanum.columns"
      ],
      "execution_count": 39,
      "outputs": [
        {
          "output_type": "execute_result",
          "data": {
            "text/plain": [
              "(Index(['Episode Name', 'Director', 'Writer', 'IMDB Description'], dtype='object'),\n",
              " Index(['Season', 'Episode Number', 'Number in Season', 'US viewers (million)',\n",
              "        'Runtime (mins)', 'IMDB votes', 'Imdb Rating', 'Notable Death Count'],\n",
              "       dtype='object'))"
            ]
          },
          "metadata": {
            "tags": []
          },
          "execution_count": 39
        }
      ]
    },
    {
      "cell_type": "code",
      "metadata": {
        "colab": {
          "base_uri": "https://localhost:8080/",
          "height": 364
        },
        "id": "Y6Log5X_Zc9S",
        "outputId": "8297a435-7856-464f-a3b4-472dba94d6cd"
      },
      "source": [
        "# US viewers full correlation\r\n",
        "# Imdb Votes Strong correlation and Runtime\r\n",
        "# Imdb Rating strong negative correlation\r\n",
        "pearson_corr = datanum.corr()\r\n",
        "ax = sns.heatmap(pearson_corr, vmin=-1, vmax=1, annot=True)\r\n",
        "\r\n",
        "#US viewers full correlation with Season and Episode Number.\r\n",
        "# Imdb Votes strong correlation with Runtime, US viewers, Season, Episode Number\r\n",
        "# Runtime Strong correlation with US viewers, Season and Episode Number\r\n",
        "# Imdb Rating strong negative correlation with Imdb votes, Runtime, US viewers, episode number and Season."
      ],
      "execution_count": 55,
      "outputs": [
        {
          "output_type": "display_data",
          "data": {
            "image/png": "[encoded data removed]",
            "text/plain": [
              "<Figure size 432x288 with 2 Axes>"
            ]
          },
          "metadata": {
            "tags": []
          }
        }
      ]
    },
    {
      "cell_type": "code",
      "metadata": {
        "colab": {
          "base_uri": "https://localhost:8080/",
          "height": 1000
        },
        "id": "ufAxp8dRibyg",
        "outputId": "957cb5fe-251a-467a-93b1-73b7371246c4"
      },
      "source": [
        "# gold mine of useful data \r\n",
        "sns.pairplot(datanum)\r\n"
      ],
      "execution_count": 40,
      "outputs": [
        {
          "output_type": "execute_result",
          "data": {
            "text/plain": [
              "<seaborn.axisgrid.PairGrid at 0x7ff0de331b38>"
            ]
          },
          "metadata": {
            "tags": []
          },
          "execution_count": 40
        },
        {
          "output_type": "display_data",
          "data": {
            "image/png": "[encoded data removed]",
            "text/plain": [
              "<Figure size 1440x1440 with 72 Axes>"
            ]
          },
          "metadata": {
            "tags": [],
            "needs_background": "light"
          }
        }
      ]
    },
    {
      "cell_type": "markdown",
      "metadata": {
        "id": "ICW0RhtneuSf"
      },
      "source": [
        "## Categorical vs Continuous"
      ]
    },
    {
      "cell_type": "code",
      "metadata": {
        "colab": {
          "base_uri": "https://localhost:8080/"
        },
        "id": "v_r_rVwDfAYR",
        "outputId": "dd2ac269-32a7-43a4-9aec-ece0d91f2774"
      },
      "source": [
        "datanum.columns, datacat.columns"
      ],
      "execution_count": 56,
      "outputs": [
        {
          "output_type": "execute_result",
          "data": {
            "text/plain": [
              "(Index(['Season', 'Episode Number', 'Number in Season', 'US viewers (million)',\n",
              "        'Runtime (mins)', 'IMDB votes', 'Imdb Rating', 'Notable Death Count'],\n",
              "       dtype='object'),\n",
              " Index(['Episode Name', 'Director', 'Writer', 'IMDB Description'], dtype='object'))"
            ]
          },
          "metadata": {
            "tags": []
          },
          "execution_count": 56
        }
      ]
    },
    {
      "cell_type": "code",
      "metadata": {
        "colab": {
          "base_uri": "https://localhost:8080/",
          "height": 681
        },
        "id": "3vLuT4c-eUhC",
        "outputId": "f980404b-b37a-462c-b1d6-07a1925877e2"
      },
      "source": [
        "# Mean and distribution of Imdb Rating per Writer\r\n",
        "g = sns.catplot(x=\"Writer\", y=\"Imdb Rating\",  data=data, kind=\"point\")\r\n",
        "g.set_xticklabels(rotation=90)\r\n"
      ],
      "execution_count": 73,
      "outputs": [
        {
          "output_type": "execute_result",
          "data": {
            "text/plain": [
              "<seaborn.axisgrid.FacetGrid at 0x7ff0d20ba1d0>"
            ]
          },
          "metadata": {
            "tags": []
          },
          "execution_count": 73
        },
        {
          "output_type": "display_data",
          "data": {
            "image/png": "[encoded data removed]",
            "text/plain": [
              "<Figure size 360x360 with 1 Axes>"
            ]
          },
          "metadata": {
            "tags": []
          }
        }
      ]
    },
    {
      "cell_type": "code",
      "metadata": {
        "colab": {
          "base_uri": "https://localhost:8080/",
          "height": 297
        },
        "id": "N2DC5RmVW-Di",
        "outputId": "2d1c6de4-5196-4b77-be8b-5075ca836645"
      },
      "source": [
        "# Best Writers per US viewers (million)\r\n",
        "data.groupby('Writer', as_index=False).agg({'US viewers (million)':'mean',\r\n",
        "                           'Episode Number':'count'}).sort_values(by='US viewers (million)', ascending=False)\r\n"
      ],
      "execution_count": 95,
      "outputs": [
        {
          "output_type": "execute_result",
          "data": {
            "text/html": [
              "<div>\n",
              "<style scoped>\n",
              "    .dataframe tbody tr th:only-of-type {\n",
              "        vertical-align: middle;\n",
              "    }\n",
              "\n",
              "    .dataframe tbody tr th {\n",
              "        vertical-align: top;\n",
              "    }\n",
              "\n",
              "    .dataframe thead th {\n",
              "        text-align: right;\n",
              "    }\n",
              "</style>\n",
              "<table border=\"1\" class=\"dataframe\">\n",
              "  <thead>\n",
              "    <tr style=\"text-align: right;\">\n",
              "      <th></th>\n",
              "      <th>Writer</th>\n",
              "      <th>US viewers (million)</th>\n",
              "      <th>Episode Number</th>\n",
              "    </tr>\n",
              "  </thead>\n",
              "  <tbody>\n",
              "    <tr>\n",
              "      <th>1</th>\n",
              "      <td>Dave Hill</td>\n",
              "      <td>9.147500</td>\n",
              "      <td>4</td>\n",
              "    </tr>\n",
              "    <tr>\n",
              "      <th>4</th>\n",
              "      <td>David Benioff &amp; D. B. Weiss</td>\n",
              "      <td>6.931429</td>\n",
              "      <td>7</td>\n",
              "    </tr>\n",
              "    <tr>\n",
              "      <th>3</th>\n",
              "      <td>David Benioff &amp; D. B. Weiss</td>\n",
              "      <td>6.640000</td>\n",
              "      <td>1</td>\n",
              "    </tr>\n",
              "    <tr>\n",
              "      <th>2</th>\n",
              "      <td>David Benioff &amp; D. B. Weiss</td>\n",
              "      <td>6.561429</td>\n",
              "      <td>42</td>\n",
              "    </tr>\n",
              "    <tr>\n",
              "      <th>0</th>\n",
              "      <td>Bryan Cogman</td>\n",
              "      <td>6.526364</td>\n",
              "      <td>11</td>\n",
              "    </tr>\n",
              "    <tr>\n",
              "      <th>5</th>\n",
              "      <td>George R. R. Martin</td>\n",
              "      <td>4.312500</td>\n",
              "      <td>4</td>\n",
              "    </tr>\n",
              "    <tr>\n",
              "      <th>7</th>\n",
              "      <td>Vanessa Taylor</td>\n",
              "      <td>3.933333</td>\n",
              "      <td>3</td>\n",
              "    </tr>\n",
              "    <tr>\n",
              "      <th>6</th>\n",
              "      <td>Story by : Jane Espenson and David Benioff &amp; D...</td>\n",
              "      <td>2.440000</td>\n",
              "      <td>1</td>\n",
              "    </tr>\n",
              "  </tbody>\n",
              "</table>\n",
              "</div>"
            ],
            "text/plain": [
              "                                              Writer  ...  Episode Number\n",
              "1                                          Dave Hill  ...               4\n",
              "4                        David Benioff & D. B. Weiss  ...               7\n",
              "3                        David Benioff & D. B. Weiss  ...               1\n",
              "2                        David Benioff & D. B. Weiss  ...              42\n",
              "0                                       Bryan Cogman  ...              11\n",
              "5                                George R. R. Martin  ...               4\n",
              "7                                     Vanessa Taylor  ...               3\n",
              "6  Story by : Jane Espenson and David Benioff & D...  ...               1\n",
              "\n",
              "[8 rows x 3 columns]"
            ]
          },
          "metadata": {
            "tags": []
          },
          "execution_count": 95
        }
      ]
    },
    {
      "cell_type": "code",
      "metadata": {
        "colab": {
          "base_uri": "https://localhost:8080/",
          "height": 297
        },
        "id": "fxd9p4s3YoBL",
        "outputId": "5a7526cd-224c-4f51-f4ab-da7f612304d8"
      },
      "source": [
        "# Best Writers per Imdb Rating\r\n",
        "data.groupby('Writer', as_index=False)['Imdb Rating'].mean().sort_values(by='Imdb Rating', ascending=False)\r\n",
        "\r\n"
      ],
      "execution_count": 97,
      "outputs": [
        {
          "output_type": "execute_result",
          "data": {
            "text/html": [
              "<div>\n",
              "<style scoped>\n",
              "    .dataframe tbody tr th:only-of-type {\n",
              "        vertical-align: middle;\n",
              "    }\n",
              "\n",
              "    .dataframe tbody tr th {\n",
              "        vertical-align: top;\n",
              "    }\n",
              "\n",
              "    .dataframe thead th {\n",
              "        text-align: right;\n",
              "    }\n",
              "</style>\n",
              "<table border=\"1\" class=\"dataframe\">\n",
              "  <thead>\n",
              "    <tr style=\"text-align: right;\">\n",
              "      <th></th>\n",
              "      <th>Writer</th>\n",
              "      <th>Imdb Rating</th>\n",
              "    </tr>\n",
              "  </thead>\n",
              "  <tbody>\n",
              "    <tr>\n",
              "      <th>5</th>\n",
              "      <td>George R. R. Martin</td>\n",
              "      <td>9.325000</td>\n",
              "    </tr>\n",
              "    <tr>\n",
              "      <th>6</th>\n",
              "      <td>Story by : Jane Espenson and David Benioff &amp; D...</td>\n",
              "      <td>9.200000</td>\n",
              "    </tr>\n",
              "    <tr>\n",
              "      <th>3</th>\n",
              "      <td>David Benioff &amp; D. B. Weiss</td>\n",
              "      <td>9.100000</td>\n",
              "    </tr>\n",
              "    <tr>\n",
              "      <th>2</th>\n",
              "      <td>David Benioff &amp; D. B. Weiss</td>\n",
              "      <td>8.940476</td>\n",
              "    </tr>\n",
              "    <tr>\n",
              "      <th>7</th>\n",
              "      <td>Vanessa Taylor</td>\n",
              "      <td>8.900000</td>\n",
              "    </tr>\n",
              "    <tr>\n",
              "      <th>0</th>\n",
              "      <td>Bryan Cogman</td>\n",
              "      <td>8.745455</td>\n",
              "    </tr>\n",
              "    <tr>\n",
              "      <th>1</th>\n",
              "      <td>Dave Hill</td>\n",
              "      <td>8.725000</td>\n",
              "    </tr>\n",
              "    <tr>\n",
              "      <th>4</th>\n",
              "      <td>David Benioff &amp; D. B. Weiss</td>\n",
              "      <td>8.600000</td>\n",
              "    </tr>\n",
              "  </tbody>\n",
              "</table>\n",
              "</div>"
            ],
            "text/plain": [
              "                                              Writer  Imdb Rating\n",
              "5                                George R. R. Martin     9.325000\n",
              "6  Story by : Jane Espenson and David Benioff & D...     9.200000\n",
              "3                        David Benioff & D. B. Weiss     9.100000\n",
              "2                        David Benioff & D. B. Weiss     8.940476\n",
              "7                                     Vanessa Taylor     8.900000\n",
              "0                                       Bryan Cogman     8.745455\n",
              "1                                          Dave Hill     8.725000\n",
              "4                        David Benioff & D. B. Weiss     8.600000"
            ]
          },
          "metadata": {
            "tags": []
          },
          "execution_count": 97
        }
      ]
    },
    {
      "cell_type": "code",
      "metadata": {
        "colab": {
          "base_uri": "https://localhost:8080/",
          "height": 531
        },
        "id": "Vqwq2L0YijCv",
        "outputId": "bac9e598-4c2c-4c40-8e38-c796870703dc"
      },
      "source": [
        "# Mean and distribution of Imdb Rating per Director\r\n",
        "\r\n",
        "ga = sns.catplot(x=\"Director\", y=\"Imdb Rating\",  data=data, kind=\"point\")\r\n",
        "ga.set_xticklabels(rotation=90)\r\n"
      ],
      "execution_count": 74,
      "outputs": [
        {
          "output_type": "execute_result",
          "data": {
            "text/plain": [
              "<seaborn.axisgrid.FacetGrid at 0x7ff0d43a3b38>"
            ]
          },
          "metadata": {
            "tags": []
          },
          "execution_count": 74
        },
        {
          "output_type": "display_data",
          "data": {
            "image/png": "[encoded data removed]",
            "text/plain": [
              "<Figure size 360x360 with 1 Axes>"
            ]
          },
          "metadata": {
            "tags": []
          }
        }
      ]
    },
    {
      "cell_type": "code",
      "metadata": {
        "colab": {
          "base_uri": "https://localhost:8080/",
          "height": 669
        },
        "id": "O11thbpTjKl3",
        "outputId": "c11718b7-8b20-407f-f648-a692b3f932d4"
      },
      "source": [
        "# Best Directors per US viewers (million)\r\n",
        "# data.groupby('Director', as_index=False)['US viewers (million)'].mean().sort_values(by='US viewers (million)', ascending=False)\r\n",
        "\r\n",
        "data.groupby('Director', as_index=False).agg({'US viewers (million)':'mean',\r\n",
        "                           'Episode Number':'count'}).sort_values(by='US viewers (million)', ascending=False)\r\n"
      ],
      "execution_count": 94,
      "outputs": [
        {
          "output_type": "execute_result",
          "data": {
            "text/html": [
              "<div>\n",
              "<style scoped>\n",
              "    .dataframe tbody tr th:only-of-type {\n",
              "        vertical-align: middle;\n",
              "    }\n",
              "\n",
              "    .dataframe tbody tr th {\n",
              "        vertical-align: top;\n",
              "    }\n",
              "\n",
              "    .dataframe thead th {\n",
              "        text-align: right;\n",
              "    }\n",
              "</style>\n",
              "<table border=\"1\" class=\"dataframe\">\n",
              "  <thead>\n",
              "    <tr style=\"text-align: right;\">\n",
              "      <th></th>\n",
              "      <th>Director</th>\n",
              "      <th>US viewers (million)</th>\n",
              "      <th>Episode Number</th>\n",
              "    </tr>\n",
              "  </thead>\n",
              "  <tbody>\n",
              "    <tr>\n",
              "      <th>8</th>\n",
              "      <td>David Benioff &amp; D. B. Weiss</td>\n",
              "      <td>13.610000</td>\n",
              "      <td>1</td>\n",
              "    </tr>\n",
              "    <tr>\n",
              "      <th>14</th>\n",
              "      <td>Matt Shakman</td>\n",
              "      <td>10.445000</td>\n",
              "      <td>2</td>\n",
              "    </tr>\n",
              "    <tr>\n",
              "      <th>17</th>\n",
              "      <td>Miguel Sapochnik</td>\n",
              "      <td>8.896667</td>\n",
              "      <td>6</td>\n",
              "    </tr>\n",
              "    <tr>\n",
              "      <th>12</th>\n",
              "      <td>Jeremy Podeswa</td>\n",
              "      <td>8.368333</td>\n",
              "      <td>6</td>\n",
              "    </tr>\n",
              "    <tr>\n",
              "      <th>13</th>\n",
              "      <td>Mark Mylod</td>\n",
              "      <td>7.908333</td>\n",
              "      <td>6</td>\n",
              "    </tr>\n",
              "    <tr>\n",
              "      <th>6</th>\n",
              "      <td>Daniel Sackheim</td>\n",
              "      <td>7.550000</td>\n",
              "      <td>2</td>\n",
              "    </tr>\n",
              "    <tr>\n",
              "      <th>9</th>\n",
              "      <td>David Nutter</td>\n",
              "      <td>7.475556</td>\n",
              "      <td>9</td>\n",
              "    </tr>\n",
              "    <tr>\n",
              "      <th>15</th>\n",
              "      <td>Michael Slovis</td>\n",
              "      <td>7.405000</td>\n",
              "      <td>2</td>\n",
              "    </tr>\n",
              "    <tr>\n",
              "      <th>11</th>\n",
              "      <td>Jack Bender</td>\n",
              "      <td>7.300000</td>\n",
              "      <td>2</td>\n",
              "    </tr>\n",
              "    <tr>\n",
              "      <th>4</th>\n",
              "      <td>D. B. Weiss</td>\n",
              "      <td>6.640000</td>\n",
              "      <td>1</td>\n",
              "    </tr>\n",
              "    <tr>\n",
              "      <th>1</th>\n",
              "      <td>Alex Graves</td>\n",
              "      <td>6.230000</td>\n",
              "      <td>6</td>\n",
              "    </tr>\n",
              "    <tr>\n",
              "      <th>16</th>\n",
              "      <td>Michelle MacLaren</td>\n",
              "      <td>6.020000</td>\n",
              "      <td>4</td>\n",
              "    </tr>\n",
              "    <tr>\n",
              "      <th>2</th>\n",
              "      <td>Alik Sakharov</td>\n",
              "      <td>5.717500</td>\n",
              "      <td>4</td>\n",
              "    </tr>\n",
              "    <tr>\n",
              "      <th>18</th>\n",
              "      <td>Neil Marshall</td>\n",
              "      <td>5.165000</td>\n",
              "      <td>2</td>\n",
              "    </tr>\n",
              "    <tr>\n",
              "      <th>7</th>\n",
              "      <td>David Benioff</td>\n",
              "      <td>4.720000</td>\n",
              "      <td>1</td>\n",
              "    </tr>\n",
              "    <tr>\n",
              "      <th>0</th>\n",
              "      <td>Alan Taylor</td>\n",
              "      <td>4.517143</td>\n",
              "      <td>7</td>\n",
              "    </tr>\n",
              "    <tr>\n",
              "      <th>10</th>\n",
              "      <td>David Petrarca</td>\n",
              "      <td>3.775000</td>\n",
              "      <td>2</td>\n",
              "    </tr>\n",
              "    <tr>\n",
              "      <th>5</th>\n",
              "      <td>Daniel Minahan</td>\n",
              "      <td>3.240000</td>\n",
              "      <td>5</td>\n",
              "    </tr>\n",
              "    <tr>\n",
              "      <th>3</th>\n",
              "      <td>Brian Kirk</td>\n",
              "      <td>2.490000</td>\n",
              "      <td>3</td>\n",
              "    </tr>\n",
              "    <tr>\n",
              "      <th>19</th>\n",
              "      <td>Tim Van Patten</td>\n",
              "      <td>2.210000</td>\n",
              "      <td>2</td>\n",
              "    </tr>\n",
              "  </tbody>\n",
              "</table>\n",
              "</div>"
            ],
            "text/plain": [
              "                       Director  US viewers (million)  Episode Number\n",
              "8   David Benioff & D. B. Weiss             13.610000               1\n",
              "14                 Matt Shakman             10.445000               2\n",
              "17             Miguel Sapochnik              8.896667               6\n",
              "12               Jeremy Podeswa              8.368333               6\n",
              "13                   Mark Mylod              7.908333               6\n",
              "6               Daniel Sackheim              7.550000               2\n",
              "9                  David Nutter              7.475556               9\n",
              "15               Michael Slovis              7.405000               2\n",
              "11                  Jack Bender              7.300000               2\n",
              "4                   D. B. Weiss              6.640000               1\n",
              "1                   Alex Graves              6.230000               6\n",
              "16            Michelle MacLaren              6.020000               4\n",
              "2                 Alik Sakharov              5.717500               4\n",
              "18                Neil Marshall              5.165000               2\n",
              "7                 David Benioff              4.720000               1\n",
              "0                   Alan Taylor              4.517143               7\n",
              "10               David Petrarca              3.775000               2\n",
              "5                Daniel Minahan              3.240000               5\n",
              "3                    Brian Kirk              2.490000               3\n",
              "19               Tim Van Patten              2.210000               2"
            ]
          },
          "metadata": {
            "tags": []
          },
          "execution_count": 94
        }
      ]
    },
    {
      "cell_type": "markdown",
      "metadata": {
        "id": "4pg3OSszbxz4"
      },
      "source": [
        "# Answering Questions\r\n",
        "\r\n",
        "Which season is the most popular? \r\n",
        "\r\n",
        "Is there are link between ratings and viewer figures? \r\n",
        "\r\n",
        "Do certain writers and directors make better episodes? \r\n",
        "\r\n",
        "Can you extract any relevant information from the episode descriptions?\r\n"
      ]
    },
    {
      "cell_type": "code",
      "metadata": {
        "colab": {
          "base_uri": "https://localhost:8080/"
        },
        "id": "fdU55rklcdg7",
        "outputId": "cab40cd0-fffb-45cf-efc9-f87400c69611"
      },
      "source": [
        "datanum.columns, datacat.columns"
      ],
      "execution_count": 99,
      "outputs": [
        {
          "output_type": "execute_result",
          "data": {
            "text/plain": [
              "(Index(['Season', 'Episode Number', 'Number in Season', 'US viewers (million)',\n",
              "        'Runtime (mins)', 'IMDB votes', 'Imdb Rating', 'Notable Death Count'],\n",
              "       dtype='object'),\n",
              " Index(['Episode Name', 'Director', 'Writer', 'IMDB Description'], dtype='object'))"
            ]
          },
          "metadata": {
            "tags": []
          },
          "execution_count": 99
        }
      ]
    },
    {
      "cell_type": "code",
      "metadata": {
        "colab": {
          "base_uri": "https://localhost:8080/",
          "height": 297
        },
        "id": "t1SBnr2pb9Im",
        "outputId": "b2708311-ad7d-4ccc-e8f1-62ff8698f163"
      },
      "source": [
        "# Which season is the most popular? \r\n",
        "data.groupby('Season', as_index=False)['US viewers (million)'].mean().sort_values(by='US viewers (million)', ascending=False)\r\n",
        "\r\n"
      ],
      "execution_count": 98,
      "outputs": [
        {
          "output_type": "execute_result",
          "data": {
            "text/html": [
              "<div>\n",
              "<style scoped>\n",
              "    .dataframe tbody tr th:only-of-type {\n",
              "        vertical-align: middle;\n",
              "    }\n",
              "\n",
              "    .dataframe tbody tr th {\n",
              "        vertical-align: top;\n",
              "    }\n",
              "\n",
              "    .dataframe thead th {\n",
              "        text-align: right;\n",
              "    }\n",
              "</style>\n",
              "<table border=\"1\" class=\"dataframe\">\n",
              "  <thead>\n",
              "    <tr style=\"text-align: right;\">\n",
              "      <th></th>\n",
              "      <th>Season</th>\n",
              "      <th>US viewers (million)</th>\n",
              "    </tr>\n",
              "  </thead>\n",
              "  <tbody>\n",
              "    <tr>\n",
              "      <th>7</th>\n",
              "      <td>8</td>\n",
              "      <td>11.980000</td>\n",
              "    </tr>\n",
              "    <tr>\n",
              "      <th>6</th>\n",
              "      <td>7</td>\n",
              "      <td>10.261429</td>\n",
              "    </tr>\n",
              "    <tr>\n",
              "      <th>5</th>\n",
              "      <td>6</td>\n",
              "      <td>7.688000</td>\n",
              "    </tr>\n",
              "    <tr>\n",
              "      <th>4</th>\n",
              "      <td>5</td>\n",
              "      <td>6.880000</td>\n",
              "    </tr>\n",
              "    <tr>\n",
              "      <th>3</th>\n",
              "      <td>4</td>\n",
              "      <td>6.846000</td>\n",
              "    </tr>\n",
              "    <tr>\n",
              "      <th>2</th>\n",
              "      <td>3</td>\n",
              "      <td>4.966000</td>\n",
              "    </tr>\n",
              "    <tr>\n",
              "      <th>1</th>\n",
              "      <td>2</td>\n",
              "      <td>3.795000</td>\n",
              "    </tr>\n",
              "    <tr>\n",
              "      <th>0</th>\n",
              "      <td>1</td>\n",
              "      <td>2.515000</td>\n",
              "    </tr>\n",
              "  </tbody>\n",
              "</table>\n",
              "</div>"
            ],
            "text/plain": [
              "   Season  US viewers (million)\n",
              "7       8             11.980000\n",
              "6       7             10.261429\n",
              "5       6              7.688000\n",
              "4       5              6.880000\n",
              "3       4              6.846000\n",
              "2       3              4.966000\n",
              "1       2              3.795000\n",
              "0       1              2.515000"
            ]
          },
          "metadata": {
            "tags": []
          },
          "execution_count": 98
        }
      ]
    },
    {
      "cell_type": "code",
      "metadata": {
        "colab": {
          "base_uri": "https://localhost:8080/",
          "height": 300
        },
        "id": "XsMJvdq3cWSg",
        "outputId": "f85c8362-ad2a-4aaf-f4f2-28b1bc15b9b9"
      },
      "source": [
        "# Is there are link between ratings and viewer figures? \r\n",
        "\r\n",
        "### Most popular episodes have low ratings. Last Season has much more lower ratings than first 7 where ratings are constant.\r\n",
        "sns.scatterplot(data=data, x=\"Imdb Rating\", y='US viewers (million)', hue='Season', palette=\"deep\")\r\n"
      ],
      "execution_count": 102,
      "outputs": [
        {
          "output_type": "execute_result",
          "data": {
            "text/plain": [
              "<matplotlib.axes._subplots.AxesSubplot at 0x7ff0ce7bf588>"
            ]
          },
          "metadata": {
            "tags": []
          },
          "execution_count": 102
        },
        {
          "output_type": "display_data",
          "data": {
            "image/png": "[encoded data removed]",
            "text/plain": [
              "<Figure size 432x288 with 1 Axes>"
            ]
          },
          "metadata": {
            "tags": []
          }
        }
      ]
    },
    {
      "cell_type": "code",
      "metadata": {
        "colab": {
          "base_uri": "https://localhost:8080/",
          "height": 297
        },
        "id": "8HLpChdnd54m",
        "outputId": "ebeacf45-2817-409a-c81a-1edcb87c53ed"
      },
      "source": [
        "data.groupby('Season', as_index=False).agg({'Imdb Rating':'mean',\r\n",
        "                           'US viewers (million)':'mean'}).sort_values(by='US viewers (million)', ascending=False)\r\n",
        "# Season 8 has 6.43 average ratings, first 7 seasons have ratings between 8.9 to 9.33 millions.\r\n",
        "# HBO have constant rise in US viewers from first to last season. "
      ],
      "execution_count": 104,
      "outputs": [
        {
          "output_type": "execute_result",
          "data": {
            "text/html": [
              "<div>\n",
              "<style scoped>\n",
              "    .dataframe tbody tr th:only-of-type {\n",
              "        vertical-align: middle;\n",
              "    }\n",
              "\n",
              "    .dataframe tbody tr th {\n",
              "        vertical-align: top;\n",
              "    }\n",
              "\n",
              "    .dataframe thead th {\n",
              "        text-align: right;\n",
              "    }\n",
              "</style>\n",
              "<table border=\"1\" class=\"dataframe\">\n",
              "  <thead>\n",
              "    <tr style=\"text-align: right;\">\n",
              "      <th></th>\n",
              "      <th>Season</th>\n",
              "      <th>Imdb Rating</th>\n",
              "      <th>US viewers (million)</th>\n",
              "    </tr>\n",
              "  </thead>\n",
              "  <tbody>\n",
              "    <tr>\n",
              "      <th>7</th>\n",
              "      <td>8</td>\n",
              "      <td>6.433333</td>\n",
              "      <td>11.980000</td>\n",
              "    </tr>\n",
              "    <tr>\n",
              "      <th>6</th>\n",
              "      <td>7</td>\n",
              "      <td>9.228571</td>\n",
              "      <td>10.261429</td>\n",
              "    </tr>\n",
              "    <tr>\n",
              "      <th>5</th>\n",
              "      <td>6</td>\n",
              "      <td>9.120000</td>\n",
              "      <td>7.688000</td>\n",
              "    </tr>\n",
              "    <tr>\n",
              "      <th>4</th>\n",
              "      <td>5</td>\n",
              "      <td>8.900000</td>\n",
              "      <td>6.880000</td>\n",
              "    </tr>\n",
              "    <tr>\n",
              "      <th>3</th>\n",
              "      <td>4</td>\n",
              "      <td>9.330000</td>\n",
              "      <td>6.846000</td>\n",
              "    </tr>\n",
              "    <tr>\n",
              "      <th>2</th>\n",
              "      <td>3</td>\n",
              "      <td>9.100000</td>\n",
              "      <td>4.966000</td>\n",
              "    </tr>\n",
              "    <tr>\n",
              "      <th>1</th>\n",
              "      <td>2</td>\n",
              "      <td>9.030000</td>\n",
              "      <td>3.795000</td>\n",
              "    </tr>\n",
              "    <tr>\n",
              "      <th>0</th>\n",
              "      <td>1</td>\n",
              "      <td>9.110000</td>\n",
              "      <td>2.515000</td>\n",
              "    </tr>\n",
              "  </tbody>\n",
              "</table>\n",
              "</div>"
            ],
            "text/plain": [
              "   Season  Imdb Rating  US viewers (million)\n",
              "7       8     6.433333             11.980000\n",
              "6       7     9.228571             10.261429\n",
              "5       6     9.120000              7.688000\n",
              "4       5     8.900000              6.880000\n",
              "3       4     9.330000              6.846000\n",
              "2       3     9.100000              4.966000\n",
              "1       2     9.030000              3.795000\n",
              "0       1     9.110000              2.515000"
            ]
          },
          "metadata": {
            "tags": []
          },
          "execution_count": 104
        }
      ]
    },
    {
      "cell_type": "code",
      "metadata": {
        "colab": {
          "base_uri": "https://localhost:8080/",
          "height": 299
        },
        "id": "Iwml0U52feHA",
        "outputId": "831faa18-5575-4672-8299-ff44f884c089"
      },
      "source": [
        "# rise in US viewers from first to last season.\r\n",
        "sns.lineplot(data=data, x=\"Season\", y=\"US viewers (million)\")\r\n"
      ],
      "execution_count": 106,
      "outputs": [
        {
          "output_type": "execute_result",
          "data": {
            "text/plain": [
              "<matplotlib.axes._subplots.AxesSubplot at 0x7ff0cf45ae48>"
            ]
          },
          "metadata": {
            "tags": []
          },
          "execution_count": 106
        },
        {
          "output_type": "display_data",
          "data": {
            "image/png": "[encoded data removed]",
            "text/plain": [
              "<Figure size 432x288 with 1 Axes>"
            ]
          },
          "metadata": {
            "tags": []
          }
        }
      ]
    },
    {
      "cell_type": "code",
      "metadata": {
        "colab": {
          "base_uri": "https://localhost:8080/",
          "height": 669
        },
        "id": "cjDtAMOggHVq",
        "outputId": "ec3a0b7d-7248-43e2-efb7-581a01bda2c5"
      },
      "source": [
        "# Best Directors per Imdb Ratings: Neil Marshall, Alex Graves, Matt Shakman\r\n",
        "\r\n",
        "data.groupby('Director', as_index=False).agg({'Imdb Rating':'mean',\r\n",
        "                           'Episode Number':'count'}).sort_values(by='Imdb Rating', ascending=False)\r\n"
      ],
      "execution_count": 107,
      "outputs": [
        {
          "output_type": "execute_result",
          "data": {
            "text/html": [
              "<div>\n",
              "<style scoped>\n",
              "    .dataframe tbody tr th:only-of-type {\n",
              "        vertical-align: middle;\n",
              "    }\n",
              "\n",
              "    .dataframe tbody tr th {\n",
              "        vertical-align: top;\n",
              "    }\n",
              "\n",
              "    .dataframe thead th {\n",
              "        text-align: right;\n",
              "    }\n",
              "</style>\n",
              "<table border=\"1\" class=\"dataframe\">\n",
              "  <thead>\n",
              "    <tr style=\"text-align: right;\">\n",
              "      <th></th>\n",
              "      <th>Director</th>\n",
              "      <th>Imdb Rating</th>\n",
              "      <th>Episode Number</th>\n",
              "    </tr>\n",
              "  </thead>\n",
              "  <tbody>\n",
              "    <tr>\n",
              "      <th>18</th>\n",
              "      <td>Neil Marshall</td>\n",
              "      <td>9.650000</td>\n",
              "      <td>2</td>\n",
              "    </tr>\n",
              "    <tr>\n",
              "      <th>1</th>\n",
              "      <td>Alex Graves</td>\n",
              "      <td>9.433333</td>\n",
              "      <td>6</td>\n",
              "    </tr>\n",
              "    <tr>\n",
              "      <th>14</th>\n",
              "      <td>Matt Shakman</td>\n",
              "      <td>9.400000</td>\n",
              "      <td>2</td>\n",
              "    </tr>\n",
              "    <tr>\n",
              "      <th>2</th>\n",
              "      <td>Alik Sakharov</td>\n",
              "      <td>9.175000</td>\n",
              "      <td>4</td>\n",
              "    </tr>\n",
              "    <tr>\n",
              "      <th>0</th>\n",
              "      <td>Alan Taylor</td>\n",
              "      <td>9.157143</td>\n",
              "      <td>7</td>\n",
              "    </tr>\n",
              "    <tr>\n",
              "      <th>4</th>\n",
              "      <td>D. B. Weiss</td>\n",
              "      <td>9.100000</td>\n",
              "      <td>1</td>\n",
              "    </tr>\n",
              "    <tr>\n",
              "      <th>11</th>\n",
              "      <td>Jack Bender</td>\n",
              "      <td>9.100000</td>\n",
              "      <td>2</td>\n",
              "    </tr>\n",
              "    <tr>\n",
              "      <th>5</th>\n",
              "      <td>Daniel Minahan</td>\n",
              "      <td>9.040000</td>\n",
              "      <td>5</td>\n",
              "    </tr>\n",
              "    <tr>\n",
              "      <th>6</th>\n",
              "      <td>Daniel Sackheim</td>\n",
              "      <td>9.000000</td>\n",
              "      <td>2</td>\n",
              "    </tr>\n",
              "    <tr>\n",
              "      <th>10</th>\n",
              "      <td>David Petrarca</td>\n",
              "      <td>8.900000</td>\n",
              "      <td>2</td>\n",
              "    </tr>\n",
              "    <tr>\n",
              "      <th>7</th>\n",
              "      <td>David Benioff</td>\n",
              "      <td>8.900000</td>\n",
              "      <td>1</td>\n",
              "    </tr>\n",
              "    <tr>\n",
              "      <th>19</th>\n",
              "      <td>Tim Van Patten</td>\n",
              "      <td>8.900000</td>\n",
              "      <td>2</td>\n",
              "    </tr>\n",
              "    <tr>\n",
              "      <th>16</th>\n",
              "      <td>Michelle MacLaren</td>\n",
              "      <td>8.900000</td>\n",
              "      <td>4</td>\n",
              "    </tr>\n",
              "    <tr>\n",
              "      <th>3</th>\n",
              "      <td>Brian Kirk</td>\n",
              "      <td>8.866667</td>\n",
              "      <td>3</td>\n",
              "    </tr>\n",
              "    <tr>\n",
              "      <th>12</th>\n",
              "      <td>Jeremy Podeswa</td>\n",
              "      <td>8.866667</td>\n",
              "      <td>6</td>\n",
              "    </tr>\n",
              "    <tr>\n",
              "      <th>13</th>\n",
              "      <td>Mark Mylod</td>\n",
              "      <td>8.800000</td>\n",
              "      <td>6</td>\n",
              "    </tr>\n",
              "    <tr>\n",
              "      <th>17</th>\n",
              "      <td>Miguel Sapochnik</td>\n",
              "      <td>8.716667</td>\n",
              "      <td>6</td>\n",
              "    </tr>\n",
              "    <tr>\n",
              "      <th>15</th>\n",
              "      <td>Michael Slovis</td>\n",
              "      <td>8.600000</td>\n",
              "      <td>2</td>\n",
              "    </tr>\n",
              "    <tr>\n",
              "      <th>9</th>\n",
              "      <td>David Nutter</td>\n",
              "      <td>8.533333</td>\n",
              "      <td>9</td>\n",
              "    </tr>\n",
              "    <tr>\n",
              "      <th>8</th>\n",
              "      <td>David Benioff &amp; D. B. Weiss</td>\n",
              "      <td>4.100000</td>\n",
              "      <td>1</td>\n",
              "    </tr>\n",
              "  </tbody>\n",
              "</table>\n",
              "</div>"
            ],
            "text/plain": [
              "                       Director  Imdb Rating  Episode Number\n",
              "18                Neil Marshall     9.650000               2\n",
              "1                   Alex Graves     9.433333               6\n",
              "14                 Matt Shakman     9.400000               2\n",
              "2                 Alik Sakharov     9.175000               4\n",
              "0                   Alan Taylor     9.157143               7\n",
              "4                   D. B. Weiss     9.100000               1\n",
              "11                  Jack Bender     9.100000               2\n",
              "5                Daniel Minahan     9.040000               5\n",
              "6               Daniel Sackheim     9.000000               2\n",
              "10               David Petrarca     8.900000               2\n",
              "7                 David Benioff     8.900000               1\n",
              "19               Tim Van Patten     8.900000               2\n",
              "16            Michelle MacLaren     8.900000               4\n",
              "3                    Brian Kirk     8.866667               3\n",
              "12               Jeremy Podeswa     8.866667               6\n",
              "13                   Mark Mylod     8.800000               6\n",
              "17             Miguel Sapochnik     8.716667               6\n",
              "15               Michael Slovis     8.600000               2\n",
              "9                  David Nutter     8.533333               9\n",
              "8   David Benioff & D. B. Weiss     4.100000               1"
            ]
          },
          "metadata": {
            "tags": []
          },
          "execution_count": 107
        }
      ]
    },
    {
      "cell_type": "code",
      "metadata": {
        "colab": {
          "base_uri": "https://localhost:8080/",
          "height": 297
        },
        "id": "7jRSTBzNg1aQ",
        "outputId": "c5f8c480-30f0-4645-c9ad-a10d21150606"
      },
      "source": [
        "# Best Writers per Imdb Ratings: George R. R. Martin, David Benioff & D. B. Weiss, Vanessa Taylor\r\n",
        "\r\n",
        "data.groupby('Writer', as_index=False).agg({'Imdb Rating':'mean',\r\n",
        "                           'Episode Number':'count'}).sort_values(by='Imdb Rating', ascending=False)\r\n"
      ],
      "execution_count": 108,
      "outputs": [
        {
          "output_type": "execute_result",
          "data": {
            "text/html": [
              "<div>\n",
              "<style scoped>\n",
              "    .dataframe tbody tr th:only-of-type {\n",
              "        vertical-align: middle;\n",
              "    }\n",
              "\n",
              "    .dataframe tbody tr th {\n",
              "        vertical-align: top;\n",
              "    }\n",
              "\n",
              "    .dataframe thead th {\n",
              "        text-align: right;\n",
              "    }\n",
              "</style>\n",
              "<table border=\"1\" class=\"dataframe\">\n",
              "  <thead>\n",
              "    <tr style=\"text-align: right;\">\n",
              "      <th></th>\n",
              "      <th>Writer</th>\n",
              "      <th>Imdb Rating</th>\n",
              "      <th>Episode Number</th>\n",
              "    </tr>\n",
              "  </thead>\n",
              "  <tbody>\n",
              "    <tr>\n",
              "      <th>5</th>\n",
              "      <td>George R. R. Martin</td>\n",
              "      <td>9.325000</td>\n",
              "      <td>4</td>\n",
              "    </tr>\n",
              "    <tr>\n",
              "      <th>6</th>\n",
              "      <td>Story by : Jane Espenson and David Benioff &amp; D...</td>\n",
              "      <td>9.200000</td>\n",
              "      <td>1</td>\n",
              "    </tr>\n",
              "    <tr>\n",
              "      <th>3</th>\n",
              "      <td>David Benioff &amp; D. B. Weiss</td>\n",
              "      <td>9.100000</td>\n",
              "      <td>1</td>\n",
              "    </tr>\n",
              "    <tr>\n",
              "      <th>2</th>\n",
              "      <td>David Benioff &amp; D. B. Weiss</td>\n",
              "      <td>8.940476</td>\n",
              "      <td>42</td>\n",
              "    </tr>\n",
              "    <tr>\n",
              "      <th>7</th>\n",
              "      <td>Vanessa Taylor</td>\n",
              "      <td>8.900000</td>\n",
              "      <td>3</td>\n",
              "    </tr>\n",
              "    <tr>\n",
              "      <th>0</th>\n",
              "      <td>Bryan Cogman</td>\n",
              "      <td>8.745455</td>\n",
              "      <td>11</td>\n",
              "    </tr>\n",
              "    <tr>\n",
              "      <th>1</th>\n",
              "      <td>Dave Hill</td>\n",
              "      <td>8.725000</td>\n",
              "      <td>4</td>\n",
              "    </tr>\n",
              "    <tr>\n",
              "      <th>4</th>\n",
              "      <td>David Benioff &amp; D. B. Weiss</td>\n",
              "      <td>8.600000</td>\n",
              "      <td>7</td>\n",
              "    </tr>\n",
              "  </tbody>\n",
              "</table>\n",
              "</div>"
            ],
            "text/plain": [
              "                                              Writer  ...  Episode Number\n",
              "5                                George R. R. Martin  ...               4\n",
              "6  Story by : Jane Espenson and David Benioff & D...  ...               1\n",
              "3                        David Benioff & D. B. Weiss  ...               1\n",
              "2                        David Benioff & D. B. Weiss  ...              42\n",
              "7                                     Vanessa Taylor  ...               3\n",
              "0                                       Bryan Cogman  ...              11\n",
              "1                                          Dave Hill  ...               4\n",
              "4                        David Benioff & D. B. Weiss  ...               7\n",
              "\n",
              "[8 rows x 3 columns]"
            ]
          },
          "metadata": {
            "tags": []
          },
          "execution_count": 108
        }
      ]
    },
    {
      "cell_type": "markdown",
      "metadata": {
        "id": "LyVj7ir_Wrng"
      },
      "source": [
        "# There is 8 seasonso of GoT and 73 episodes\r\n",
        "\r\n",
        "# Average number of  US viewers are 6.44 millions, minimum was 2.2 and maximum was 13.61.\r\n",
        "\r\n",
        "# Average runtime per episode is 57.72 minutes, minimum was 50 and max was 82.\r\n",
        "\r\n",
        "# Imdb average votes per episode is 40185, min is 16496 and max was 216879\r\n",
        "\r\n",
        "# Average Imdb rating is 8.89, min 4.1 and max is 9.9\r\n",
        "\r\n",
        "# Deaths per episode was 3.17 on average, with max number 11.\r\n",
        "\r\n",
        "# There is 8 Different Writers and 20 Directors\r\n",
        "\r\n",
        "# David Benioff & D. B. Weiss have written most episodes 42 out of 73.\r\n",
        "\r\n",
        "# David Nutter Directed most number of epiodes 9.\r\n",
        "\r\n",
        "# First Episode is aired on May 15, 2011\r\n",
        "\r\n",
        "# David Nutter 9,Alan Taylor 7,Miguel Sapochnik 6,Mark Mylod 6,Jeremy Podeswa 6,Alex Graves 6 have Directed most episodes.\r\n",
        "\r\n",
        "# Outliers in Runtime, Imdb Rating and Notable Death Count\r\n",
        "\r\n",
        "#US viewers full correlation with Season and Episode Number.\r\n",
        "\r\n",
        "# Imdb Votes strong correlation with Runtime, US viewers, Season, Episode Number\r\n",
        "\r\n",
        "# Runtime Strong correlation with US viewers, Season and Episode Number\r\n",
        "\r\n",
        "# Imdb Rating strong negative correlation with Imdb votes, Runtime, US viewers,episode number and Season.\r\n",
        "\r\n",
        "### Most popular episodes have low ratings. Last Season has much more lower ratings than first 7 where ratings are constant.\r\n",
        "\r\n",
        "# Season 8 has 6.43 average ratings, first 7 seasons have ratings between 8.9 to 9.33 millions.\r\n",
        "\r\n",
        "# HBO have constant rise in US viewers from first to last season. \r\n",
        "\r\n",
        "# Best Directors per Imdb Ratings: Neil Marshall, Alex Graves, Matt Shakman\r\n",
        "\r\n",
        "# Best Writers per Imdb Ratings: George R. R. Martin, David Benioff & D. B. Weiss, Vanessa Taylor\r\n"
      ]
    }
  ]
}